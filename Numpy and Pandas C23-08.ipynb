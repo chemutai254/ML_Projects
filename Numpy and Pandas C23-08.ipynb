{
 "cells": [
  {
   "cell_type": "markdown",
   "id": "6e1a9426",
   "metadata": {},
   "source": [
    "# NumPy\n"
   ]
  },
  {
   "cell_type": "markdown",
   "id": "4d8f8405",
   "metadata": {},
   "source": [
    "NumPy is a popular Python library for scientific computing and numerical operations. It provides powerful tools for working with multi-dimensional arrays and matrices, which are essential for many data science and machine learning applications. NumPy also offers a wide range of mathematical functions and algorithms that can efficiently process large amounts of data. With NumPy, users can easily perform operations such as matrix multiplication, element-wise calculations, and statistical analysis, all while taking advantage of its fast and optimized code.\n",
    "\n",
    "NumPy is widely used in the data science community and is a foundational library for many other Python data analysis tools. Its ability to work with large datasets efficiently and effectively make it a valuable tool for both data exploration and model building. NumPy also integrates well with other popular Python libraries such as Pandas, Matplotlib, and SciPy, making it an essential part of any data scientist's toolkit. Whether you're a beginner or an advanced user, NumPy can help you perform complex calculations with ease and speed up your data analysis workflow.\n",
    "\n",
    "\n",
    "\n",
    "Numpy documentation: https://numpy.org/doc/stable/\n",
    "\n",
    "\n",
    "Numpy is the core library for scientific computing in Python. Foundational Python libraries such as Pandas,  SciPy and matplotlip are built on top of Numpy. "
   ]
  },
  {
   "cell_type": "code",
   "execution_count": 1,
   "id": "6253dd11",
   "metadata": {},
   "outputs": [],
   "source": [
    "import numpy as np"
   ]
  },
  {
   "cell_type": "markdown",
   "id": "5210f92c",
   "metadata": {},
   "source": [
    "### Arrays vs. Python Lists\n",
    "- Python lists can include different data types whereas, all the elements in a NumPy array must be the same data type. This makes NumPy very efficient: there's no need for NumPy to check the data type of each element in an array since they must all be the same. Having only a single data type also means that a NumPy array takes up less space in memory than the same information would if stored as a Python list."
   ]
  },
  {
   "cell_type": "code",
   "execution_count": 2,
   "id": "63c66d3a",
   "metadata": {},
   "outputs": [],
   "source": [
    "num1 = [4, 5, 6, 7]\n",
    "num2 = [7, 8, 9, 10]"
   ]
  },
  {
   "cell_type": "code",
   "execution_count": 3,
   "id": "f075f248",
   "metadata": {},
   "outputs": [
    {
     "data": {
      "text/plain": [
       "[4, 5, 6, 7, 7, 8, 9, 10]"
      ]
     },
     "execution_count": 3,
     "metadata": {},
     "output_type": "execute_result"
    }
   ],
   "source": [
    "sum_list = num1 + num2\n",
    "sum_list"
   ]
  },
  {
   "cell_type": "code",
   "execution_count": 4,
   "id": "1c6f9987",
   "metadata": {},
   "outputs": [
    {
     "data": {
      "text/plain": [
       "array([11, 13, 15, 17])"
      ]
     },
     "execution_count": 4,
     "metadata": {},
     "output_type": "execute_result"
    }
   ],
   "source": [
    "a1 = np.array(num1)\n",
    "a2 = np.array(num2)\n",
    "\n",
    "a1 + a2"
   ]
  },
  {
   "cell_type": "code",
   "execution_count": 5,
   "id": "a6069e88",
   "metadata": {},
   "outputs": [
    {
     "data": {
      "text/plain": [
       "array([[ 4,  5,  6,  7],\n",
       "       [ 7,  8,  9, 10]])"
      ]
     },
     "execution_count": 5,
     "metadata": {},
     "output_type": "execute_result"
    }
   ],
   "source": [
    "np.array([num1, num2])"
   ]
  },
  {
   "cell_type": "markdown",
   "id": "02a110f7",
   "metadata": {},
   "source": [
    "### Class Task\n",
    "- Create an array to store monthly sales for 3 different products over a 12 month period\n",
    "- Create a 2D array which contains total sales for each month.\n",
    "- Concatenate total_sales with monthly_sales into a new array called monthly_sales_with_total\n",
    "- Create a 1D array called avg_monthly_sales, which contains the average sales amount for each month.\n"
   ]
  },
  {
   "cell_type": "code",
   "execution_count": null,
   "id": "2708e137",
   "metadata": {},
   "outputs": [],
   "source": []
  },
  {
   "cell_type": "code",
   "execution_count": null,
   "id": "8658ea2b",
   "metadata": {},
   "outputs": [],
   "source": []
  },
  {
   "cell_type": "code",
   "execution_count": null,
   "id": "9d687f4d",
   "metadata": {},
   "outputs": [],
   "source": []
  },
  {
   "cell_type": "code",
   "execution_count": null,
   "id": "40a4f7cf",
   "metadata": {},
   "outputs": [],
   "source": []
  },
  {
   "cell_type": "markdown",
   "id": "91c2722b",
   "metadata": {},
   "source": [
    "### Creating arrays using built-in functions\n",
    "- np.zeros()\n",
    "- np.ones()\n",
    "- np.arange()\n",
    "- np.random - Rand, Randn, Randint"
   ]
  },
  {
   "cell_type": "code",
   "execution_count": null,
   "id": "ff2c6a85",
   "metadata": {},
   "outputs": [],
   "source": []
  },
  {
   "cell_type": "code",
   "execution_count": null,
   "id": "abec7119",
   "metadata": {},
   "outputs": [],
   "source": []
  },
  {
   "cell_type": "code",
   "execution_count": null,
   "id": "a1abc686",
   "metadata": {},
   "outputs": [],
   "source": []
  },
  {
   "cell_type": "markdown",
   "id": "20cbb521",
   "metadata": {},
   "source": [
    "## Pandas"
   ]
  },
  {
   "cell_type": "markdown",
   "id": "1a03ee45",
   "metadata": {},
   "source": [
    "Pandas is a powerful and widely used Python library for data manipulation and analysis. It provides tools for working with structured data, such as tabular data in the form of tables or spreadsheets, and time series data. Pandas allows users to read in data from various file formats, such as CSV or Excel files, and manipulate it in many ways, including filtering, sorting, grouping, and aggregating data. Additionally, Pandas provides powerful tools for data cleaning, handling missing data, and data visualization.\n",
    "\n",
    "Pandas is built on top of NumPy and is dependent on it. NumPy provides the underlying data structure for Pandas to work with, specifically, the ndarray (N-dimensional array), which is a powerful data structure for performing fast and efficient numerical computations.\n",
    "\n",
    "Pandas is a must-have tool for any data scientist or analyst working with data in Python. It provides a user-friendly interface for working with complex data structures and makes data analysis more accessible and efficient. With its powerful data manipulation and transformation capabilities, Pandas has become a popular tool in many industries, including finance, healthcare, and retail. Whether you're analyzing large datasets or working with smaller, more structured data, Pandas provides a versatile set of tools to help you manipulate and analyze your data with ease.\n",
    "\n",
    "Pandas documentation: https://pandas.pydata.org/docs/"
   ]
  },
  {
   "cell_type": "code",
   "execution_count": null,
   "id": "16f555f5",
   "metadata": {},
   "outputs": [],
   "source": []
  },
  {
   "cell_type": "code",
   "execution_count": null,
   "id": "8c843e22",
   "metadata": {},
   "outputs": [],
   "source": []
  },
  {
   "cell_type": "code",
   "execution_count": null,
   "id": "65a1bd0a",
   "metadata": {},
   "outputs": [],
   "source": []
  },
  {
   "cell_type": "markdown",
   "id": "6c063ff8",
   "metadata": {},
   "source": [
    "#### Class Task:\n",
    "\n",
    "Given two tables above from a school students' report, answer the following questions<br>\n",
    "- Who is the oldest in the class?<br>\n",
    "- Who was admitted last?<br>\n",
    "- How many male students do we have in the record?<br>\n",
    "- Age of students that are over 20 <br>\n",
    "- Average age of female students<br>\n",
    "- Get the Fullname of the oldest student?"
   ]
  },
  {
   "cell_type": "code",
   "execution_count": null,
   "id": "accabd61",
   "metadata": {},
   "outputs": [],
   "source": []
  },
  {
   "cell_type": "code",
   "execution_count": null,
   "id": "b4626ad5",
   "metadata": {},
   "outputs": [],
   "source": []
  },
  {
   "cell_type": "code",
   "execution_count": null,
   "id": "4ab69b9c",
   "metadata": {},
   "outputs": [],
   "source": []
  },
  {
   "cell_type": "code",
   "execution_count": null,
   "id": "a2b7c99f",
   "metadata": {},
   "outputs": [],
   "source": []
  },
  {
   "cell_type": "code",
   "execution_count": null,
   "id": "77ce9db9",
   "metadata": {},
   "outputs": [],
   "source": []
  },
  {
   "cell_type": "markdown",
   "id": "77034455",
   "metadata": {},
   "source": [
    "### Inspecting a DataFrame\n",
    "\n",
    "When you get a new DataFrame to work with, the first thing you need to do is explore it and see what it contains. There are several useful methods and attributes for this.\n",
    "\n",
    "- head() - returns the first few rows (the “head” of the DataFrame).\n",
    "- info() - shows information on each of the columns, such as the data type and number of missing values.\n",
    "- shape - returns the number of rows and columns of the DataFrame.\n",
    "- describe() - calculates a few summary statistics for each column.\n",
    "- columns: An index of columns: the column names.\n"
   ]
  },
  {
   "cell_type": "code",
   "execution_count": null,
   "id": "61b391d6",
   "metadata": {},
   "outputs": [],
   "source": []
  },
  {
   "cell_type": "code",
   "execution_count": null,
   "id": "d3b058e9",
   "metadata": {},
   "outputs": [],
   "source": []
  },
  {
   "cell_type": "code",
   "execution_count": null,
   "id": "9cf6599b",
   "metadata": {},
   "outputs": [],
   "source": []
  },
  {
   "cell_type": "code",
   "execution_count": null,
   "id": "89486758",
   "metadata": {},
   "outputs": [],
   "source": []
  },
  {
   "cell_type": "code",
   "execution_count": null,
   "id": "fc15a85a",
   "metadata": {},
   "outputs": [],
   "source": []
  }
 ],
 "metadata": {
  "kernelspec": {
   "display_name": "Python 3 (ipykernel)",
   "language": "python",
   "name": "python3"
  },
  "language_info": {
   "codemirror_mode": {
    "name": "ipython",
    "version": 3
   },
   "file_extension": ".py",
   "mimetype": "text/x-python",
   "name": "python",
   "nbconvert_exporter": "python",
   "pygments_lexer": "ipython3",
   "version": "3.11.5"
  }
 },
 "nbformat": 4,
 "nbformat_minor": 5
}
