{
 "cells": [
  {
   "cell_type": "markdown",
   "metadata": {},
   "source": [
    "Job Post Analysis and Report"
   ]
  },
  {
   "cell_type": "code",
   "execution_count": 211,
   "metadata": {},
   "outputs": [],
   "source": [
    "# Import General Libraries\n",
    "import pandas as pd \n",
    "import numpy as np \n",
    "\n",
    "# Import Visualization Libraries\n",
    "import matplotlib.pyplot as plt \n",
    "import seaborn as sns "
   ]
  },
  {
   "cell_type": "markdown",
   "metadata": {},
   "source": [
    "## Loading Data"
   ]
  },
  {
   "cell_type": "code",
   "execution_count": 212,
   "metadata": {},
   "outputs": [
    {
     "data": {
      "text/html": [
       "<div>\n",
       "<style scoped>\n",
       "    .dataframe tbody tr th:only-of-type {\n",
       "        vertical-align: middle;\n",
       "    }\n",
       "\n",
       "    .dataframe tbody tr th {\n",
       "        vertical-align: top;\n",
       "    }\n",
       "\n",
       "    .dataframe thead th {\n",
       "        text-align: right;\n",
       "    }\n",
       "</style>\n",
       "<table border=\"1\" class=\"dataframe\">\n",
       "  <thead>\n",
       "    <tr style=\"text-align: right;\">\n",
       "      <th></th>\n",
       "      <th>job_id</th>\n",
       "      <th>job_employment_type</th>\n",
       "      <th>job_title</th>\n",
       "      <th>job_apply_link</th>\n",
       "      <th>job_description</th>\n",
       "      <th>job_city</th>\n",
       "      <th>job_country</th>\n",
       "      <th>job_posted_at_timestamp</th>\n",
       "      <th>employer_website</th>\n",
       "      <th>employer_company_type</th>\n",
       "    </tr>\n",
       "  </thead>\n",
       "  <tbody>\n",
       "    <tr>\n",
       "      <th>0</th>\n",
       "      <td>XX6946dvNO3187IkAAAAAA==</td>\n",
       "      <td>FULLTIME</td>\n",
       "      <td>Data Engineer</td>\n",
       "      <td>https://ca.linkedin.com/jobs/view/data-enginee...</td>\n",
       "      <td>• *Please note that our offices will be closed...</td>\n",
       "      <td>Montréal</td>\n",
       "      <td>CA</td>\n",
       "      <td>2023-12-19 20:22:04</td>\n",
       "      <td>NaN</td>\n",
       "      <td>NaN</td>\n",
       "    </tr>\n",
       "    <tr>\n",
       "      <th>1</th>\n",
       "      <td>6Wu7QcWfrhOR-THoAAAAAA==</td>\n",
       "      <td>FULLTIME</td>\n",
       "      <td>Data Engineer</td>\n",
       "      <td>https://ca.linkedin.com/jobs/view/data-enginee...</td>\n",
       "      <td>We are seeking an experienced and passionate D...</td>\n",
       "      <td>NaN</td>\n",
       "      <td>CA</td>\n",
       "      <td>2023-12-19 15:55:49</td>\n",
       "      <td>NaN</td>\n",
       "      <td>NaN</td>\n",
       "    </tr>\n",
       "    <tr>\n",
       "      <th>2</th>\n",
       "      <td>Oiu186OT5E6bkZReAAAAAA==</td>\n",
       "      <td>FULLTIME</td>\n",
       "      <td>2024 RBCIS, Summer Co-op Data Engineer / Full ...</td>\n",
       "      <td>https://ca.linkedin.com/jobs/view/2024-rbcis-s...</td>\n",
       "      <td>Job Summary\\n\\nJob Description\\n\\nWhat is the ...</td>\n",
       "      <td>Toronto</td>\n",
       "      <td>CA</td>\n",
       "      <td>2023-12-19 22:30:06</td>\n",
       "      <td>http://www.rbc.com</td>\n",
       "      <td>Finance</td>\n",
       "    </tr>\n",
       "  </tbody>\n",
       "</table>\n",
       "</div>"
      ],
      "text/plain": [
       "                     job_id job_employment_type  \\\n",
       "0  XX6946dvNO3187IkAAAAAA==            FULLTIME   \n",
       "1  6Wu7QcWfrhOR-THoAAAAAA==            FULLTIME   \n",
       "2  Oiu186OT5E6bkZReAAAAAA==            FULLTIME   \n",
       "\n",
       "                                           job_title  \\\n",
       "0                                      Data Engineer   \n",
       "1                                      Data Engineer   \n",
       "2  2024 RBCIS, Summer Co-op Data Engineer / Full ...   \n",
       "\n",
       "                                      job_apply_link  \\\n",
       "0  https://ca.linkedin.com/jobs/view/data-enginee...   \n",
       "1  https://ca.linkedin.com/jobs/view/data-enginee...   \n",
       "2  https://ca.linkedin.com/jobs/view/2024-rbcis-s...   \n",
       "\n",
       "                                     job_description  job_city job_country  \\\n",
       "0  • *Please note that our offices will be closed...  Montréal          CA   \n",
       "1  We are seeking an experienced and passionate D...       NaN          CA   \n",
       "2  Job Summary\\n\\nJob Description\\n\\nWhat is the ...   Toronto          CA   \n",
       "\n",
       "  job_posted_at_timestamp    employer_website employer_company_type  \n",
       "0     2023-12-19 20:22:04                 NaN                   NaN  \n",
       "1     2023-12-19 15:55:49                 NaN                   NaN  \n",
       "2     2023-12-19 22:30:06  http://www.rbc.com               Finance  "
      ]
     },
     "execution_count": 212,
     "metadata": {},
     "output_type": "execute_result"
    }
   ],
   "source": [
    "df = pd.read_csv(r'transformed_jobs_data.csv')\n",
    "df.head(3)"
   ]
  },
  {
   "cell_type": "code",
   "execution_count": 213,
   "metadata": {},
   "outputs": [],
   "source": [
    "# df['job_city'].unique()"
   ]
  },
  {
   "cell_type": "code",
   "execution_count": 214,
   "metadata": {},
   "outputs": [],
   "source": [
    "# df.tail()"
   ]
  },
  {
   "cell_type": "code",
   "execution_count": 215,
   "metadata": {},
   "outputs": [
    {
     "data": {
      "text/plain": [
       "(166, 10)"
      ]
     },
     "execution_count": 215,
     "metadata": {},
     "output_type": "execute_result"
    }
   ],
   "source": [
    "df.shape"
   ]
  },
  {
   "cell_type": "code",
   "execution_count": 216,
   "metadata": {},
   "outputs": [
    {
     "data": {
      "text/plain": [
       "job_id                      0\n",
       "job_employment_type         0\n",
       "job_title                   0\n",
       "job_apply_link              0\n",
       "job_description             0\n",
       "job_city                   38\n",
       "job_country                 0\n",
       "job_posted_at_timestamp     0\n",
       "employer_website           53\n",
       "employer_company_type      90\n",
       "dtype: int64"
      ]
     },
     "execution_count": 216,
     "metadata": {},
     "output_type": "execute_result"
    }
   ],
   "source": [
    "df.isnull().sum()"
   ]
  },
  {
   "cell_type": "code",
   "execution_count": 217,
   "metadata": {},
   "outputs": [
    {
     "data": {
      "text/plain": [
       "job_id                      0.00%\n",
       "job_employment_type         0.00%\n",
       "job_title                   0.00%\n",
       "job_apply_link              0.00%\n",
       "job_description             0.00%\n",
       "job_city                   22.89%\n",
       "job_country                 0.00%\n",
       "job_posted_at_timestamp     0.00%\n",
       "employer_website           31.93%\n",
       "employer_company_type      54.22%\n",
       "dtype: object"
      ]
     },
     "execution_count": 217,
     "metadata": {},
     "output_type": "execute_result"
    }
   ],
   "source": [
    "# Function to format null values to 2dp\n",
    "def formatt(x):\n",
    "    return '{:.2f}%'.format(x)\n",
    "\n",
    "((df.isnull().sum() / len(df)) * 100).apply(formatt)"
   ]
  },
  {
   "cell_type": "markdown",
   "metadata": {},
   "source": [
    "- Presence of missing data in **THREE** columns namely:\n",
    "    - job_city [22.89%]\n",
    "    - employer_website [31.93%]\n",
    "    - employer_company_type [54.22%]"
   ]
  },
  {
   "cell_type": "markdown",
   "metadata": {},
   "source": [
    "- No duplicates."
   ]
  },
  {
   "cell_type": "code",
   "execution_count": 218,
   "metadata": {},
   "outputs": [],
   "source": [
    "# Drop job_city and employer_website column\n",
    "df.drop('job_city', axis=1, inplace=True)\n",
    "df.drop('employer_website', axis=1, inplace=True)"
   ]
  },
  {
   "cell_type": "code",
   "execution_count": 219,
   "metadata": {},
   "outputs": [
    {
     "data": {
      "text/html": [
       "<div>\n",
       "<style scoped>\n",
       "    .dataframe tbody tr th:only-of-type {\n",
       "        vertical-align: middle;\n",
       "    }\n",
       "\n",
       "    .dataframe tbody tr th {\n",
       "        vertical-align: top;\n",
       "    }\n",
       "\n",
       "    .dataframe thead th {\n",
       "        text-align: right;\n",
       "    }\n",
       "</style>\n",
       "<table border=\"1\" class=\"dataframe\">\n",
       "  <thead>\n",
       "    <tr style=\"text-align: right;\">\n",
       "      <th></th>\n",
       "      <th>job_id</th>\n",
       "      <th>job_employment_type</th>\n",
       "      <th>job_title</th>\n",
       "      <th>job_apply_link</th>\n",
       "      <th>job_description</th>\n",
       "      <th>job_country</th>\n",
       "      <th>job_posted_at_timestamp</th>\n",
       "      <th>employer_company_type</th>\n",
       "    </tr>\n",
       "  </thead>\n",
       "  <tbody>\n",
       "    <tr>\n",
       "      <th>0</th>\n",
       "      <td>XX6946dvNO3187IkAAAAAA==</td>\n",
       "      <td>FULLTIME</td>\n",
       "      <td>Data Engineer</td>\n",
       "      <td>https://ca.linkedin.com/jobs/view/data-enginee...</td>\n",
       "      <td>• *Please note that our offices will be closed...</td>\n",
       "      <td>CA</td>\n",
       "      <td>2023-12-19 20:22:04</td>\n",
       "      <td>NaN</td>\n",
       "    </tr>\n",
       "    <tr>\n",
       "      <th>1</th>\n",
       "      <td>6Wu7QcWfrhOR-THoAAAAAA==</td>\n",
       "      <td>FULLTIME</td>\n",
       "      <td>Data Engineer</td>\n",
       "      <td>https://ca.linkedin.com/jobs/view/data-enginee...</td>\n",
       "      <td>We are seeking an experienced and passionate D...</td>\n",
       "      <td>CA</td>\n",
       "      <td>2023-12-19 15:55:49</td>\n",
       "      <td>NaN</td>\n",
       "    </tr>\n",
       "    <tr>\n",
       "      <th>2</th>\n",
       "      <td>Oiu186OT5E6bkZReAAAAAA==</td>\n",
       "      <td>FULLTIME</td>\n",
       "      <td>2024 RBCIS, Summer Co-op Data Engineer / Full ...</td>\n",
       "      <td>https://ca.linkedin.com/jobs/view/2024-rbcis-s...</td>\n",
       "      <td>Job Summary\\n\\nJob Description\\n\\nWhat is the ...</td>\n",
       "      <td>CA</td>\n",
       "      <td>2023-12-19 22:30:06</td>\n",
       "      <td>Finance</td>\n",
       "    </tr>\n",
       "  </tbody>\n",
       "</table>\n",
       "</div>"
      ],
      "text/plain": [
       "                     job_id job_employment_type  \\\n",
       "0  XX6946dvNO3187IkAAAAAA==            FULLTIME   \n",
       "1  6Wu7QcWfrhOR-THoAAAAAA==            FULLTIME   \n",
       "2  Oiu186OT5E6bkZReAAAAAA==            FULLTIME   \n",
       "\n",
       "                                           job_title  \\\n",
       "0                                      Data Engineer   \n",
       "1                                      Data Engineer   \n",
       "2  2024 RBCIS, Summer Co-op Data Engineer / Full ...   \n",
       "\n",
       "                                      job_apply_link  \\\n",
       "0  https://ca.linkedin.com/jobs/view/data-enginee...   \n",
       "1  https://ca.linkedin.com/jobs/view/data-enginee...   \n",
       "2  https://ca.linkedin.com/jobs/view/2024-rbcis-s...   \n",
       "\n",
       "                                     job_description job_country  \\\n",
       "0  • *Please note that our offices will be closed...          CA   \n",
       "1  We are seeking an experienced and passionate D...          CA   \n",
       "2  Job Summary\\n\\nJob Description\\n\\nWhat is the ...          CA   \n",
       "\n",
       "  job_posted_at_timestamp employer_company_type  \n",
       "0     2023-12-19 20:22:04                   NaN  \n",
       "1     2023-12-19 15:55:49                   NaN  \n",
       "2     2023-12-19 22:30:06               Finance  "
      ]
     },
     "execution_count": 219,
     "metadata": {},
     "output_type": "execute_result"
    }
   ],
   "source": [
    "df_copy = df.copy()\n",
    "df_copy.head(3)"
   ]
  },
  {
   "cell_type": "code",
   "execution_count": 226,
   "metadata": {},
   "outputs": [],
   "source": [
    "# Impute employer_company_type\n",
    "# df.fillna(method='ffill', axis=1, inplace=True)\n",
    "from sklearn.impute import SimpleImputer\n",
    "\n",
    "si = SimpleImputer(strategy='most_frequent')\n",
    "si.fit(df[['employer_company_type']])\n",
    "\n",
    "df[['employer_company_type']] = si.fit_transform(df[['employer_company_type']].values.reshape(-1,1))\n"
   ]
  },
  {
   "cell_type": "markdown",
   "metadata": {},
   "source": [
    "### Exploratory Data Analysis"
   ]
  },
  {
   "cell_type": "code",
   "execution_count": 227,
   "metadata": {},
   "outputs": [
    {
     "data": {
      "text/html": [
       "<div>\n",
       "<style scoped>\n",
       "    .dataframe tbody tr th:only-of-type {\n",
       "        vertical-align: middle;\n",
       "    }\n",
       "\n",
       "    .dataframe tbody tr th {\n",
       "        vertical-align: top;\n",
       "    }\n",
       "\n",
       "    .dataframe thead th {\n",
       "        text-align: right;\n",
       "    }\n",
       "</style>\n",
       "<table border=\"1\" class=\"dataframe\">\n",
       "  <thead>\n",
       "    <tr style=\"text-align: right;\">\n",
       "      <th></th>\n",
       "      <th>job_id</th>\n",
       "      <th>job_employment_type</th>\n",
       "      <th>job_title</th>\n",
       "      <th>job_apply_link</th>\n",
       "      <th>job_description</th>\n",
       "      <th>job_country</th>\n",
       "      <th>job_posted_at_timestamp</th>\n",
       "      <th>employer_company_type</th>\n",
       "    </tr>\n",
       "  </thead>\n",
       "  <tbody>\n",
       "    <tr>\n",
       "      <th>0</th>\n",
       "      <td>XX6946dvNO3187IkAAAAAA==</td>\n",
       "      <td>FULLTIME</td>\n",
       "      <td>Data Engineer</td>\n",
       "      <td>https://ca.linkedin.com/jobs/view/data-enginee...</td>\n",
       "      <td>• *Please note that our offices will be closed...</td>\n",
       "      <td>CA</td>\n",
       "      <td>2023-12-19 20:22:04</td>\n",
       "      <td>Consulting</td>\n",
       "    </tr>\n",
       "    <tr>\n",
       "      <th>1</th>\n",
       "      <td>6Wu7QcWfrhOR-THoAAAAAA==</td>\n",
       "      <td>FULLTIME</td>\n",
       "      <td>Data Engineer</td>\n",
       "      <td>https://ca.linkedin.com/jobs/view/data-enginee...</td>\n",
       "      <td>We are seeking an experienced and passionate D...</td>\n",
       "      <td>CA</td>\n",
       "      <td>2023-12-19 15:55:49</td>\n",
       "      <td>Consulting</td>\n",
       "    </tr>\n",
       "    <tr>\n",
       "      <th>2</th>\n",
       "      <td>Oiu186OT5E6bkZReAAAAAA==</td>\n",
       "      <td>FULLTIME</td>\n",
       "      <td>2024 RBCIS, Summer Co-op Data Engineer / Full ...</td>\n",
       "      <td>https://ca.linkedin.com/jobs/view/2024-rbcis-s...</td>\n",
       "      <td>Job Summary\\n\\nJob Description\\n\\nWhat is the ...</td>\n",
       "      <td>CA</td>\n",
       "      <td>2023-12-19 22:30:06</td>\n",
       "      <td>Finance</td>\n",
       "    </tr>\n",
       "  </tbody>\n",
       "</table>\n",
       "</div>"
      ],
      "text/plain": [
       "                     job_id job_employment_type  \\\n",
       "0  XX6946dvNO3187IkAAAAAA==            FULLTIME   \n",
       "1  6Wu7QcWfrhOR-THoAAAAAA==            FULLTIME   \n",
       "2  Oiu186OT5E6bkZReAAAAAA==            FULLTIME   \n",
       "\n",
       "                                           job_title  \\\n",
       "0                                      Data Engineer   \n",
       "1                                      Data Engineer   \n",
       "2  2024 RBCIS, Summer Co-op Data Engineer / Full ...   \n",
       "\n",
       "                                      job_apply_link  \\\n",
       "0  https://ca.linkedin.com/jobs/view/data-enginee...   \n",
       "1  https://ca.linkedin.com/jobs/view/data-enginee...   \n",
       "2  https://ca.linkedin.com/jobs/view/2024-rbcis-s...   \n",
       "\n",
       "                                     job_description job_country  \\\n",
       "0  • *Please note that our offices will be closed...          CA   \n",
       "1  We are seeking an experienced and passionate D...          CA   \n",
       "2  Job Summary\\n\\nJob Description\\n\\nWhat is the ...          CA   \n",
       "\n",
       "  job_posted_at_timestamp employer_company_type  \n",
       "0     2023-12-19 20:22:04            Consulting  \n",
       "1     2023-12-19 15:55:49            Consulting  \n",
       "2     2023-12-19 22:30:06               Finance  "
      ]
     },
     "execution_count": 227,
     "metadata": {},
     "output_type": "execute_result"
    }
   ],
   "source": [
    "df.head(3)"
   ]
  },
  {
   "cell_type": "code",
   "execution_count": 230,
   "metadata": {},
   "outputs": [
    {
     "data": {
      "text/plain": [
       "<Axes: xlabel='job_employment_type', ylabel='Count'>"
      ]
     },
     "execution_count": 230,
     "metadata": {},
     "output_type": "execute_result"
    },
    {
     "data": {
      "image/png": "[encoded data removed]",
      "text/plain": [
       "<Figure size 640x480 with 1 Axes>"
      ]
     },
     "metadata": {},
     "output_type": "display_data"
    }
   ],
   "source": [
    "sns.histplot(data=df, x=df['job_employment_type'])"
   ]
  },
  {
   "cell_type": "markdown",
   "metadata": {},
   "source": []
  },
  {
   "cell_type": "code",
   "execution_count": null,
   "metadata": {},
   "outputs": [],
   "source": [
    "# Impute missing job_city \n",
    "# modeCity = df.groupby('job_country')['job_city'].count().reset_index()\n",
    "# modeCity.columns = ['job_country', 'job_city']\n",
    "# modeCity\n",
    "\n",
    "    "
   ]
  },
  {
   "cell_type": "code",
   "execution_count": null,
   "metadata": {},
   "outputs": [],
   "source": [
    "# df.dtypes"
   ]
  },
  {
   "cell_type": "code",
   "execution_count": null,
   "metadata": {},
   "outputs": [],
   "source": [
    "# Convert job_city to a categorical data\n",
    "# df['job_city'] = df['job_city'].astype('category')"
   ]
  },
  {
   "cell_type": "code",
   "execution_count": null,
   "metadata": {},
   "outputs": [],
   "source": [
    "# Label Encoding in Pandas\n",
    "# df['Encoding_with_pandas'] = df['job_city'].cat.codes\n",
    "# df.head(3)"
   ]
  },
  {
   "cell_type": "code",
   "execution_count": null,
   "metadata": {},
   "outputs": [],
   "source": [
    "# # Label encoding using Scikit-Learn\n",
    "# from sklearn.preprocessing import LabelEncoder\n",
    "\n",
    "# # Create an instance\n",
    "# label_encoder = LabelEncoder()\n",
    "\n",
    "# # Fit LabelEncoder\n",
    "# label_encoder.fit(df['job_city'])\n",
    "\n",
    "# df['encoded_with_sklearn'] = label_encoder.transform(df['job_city'])"
   ]
  },
  {
   "cell_type": "code",
   "execution_count": null,
   "metadata": {},
   "outputs": [],
   "source": [
    "# One Hot Encoding\n",
    "# from sklearn.preprocessing import OneHotEncoder\n",
    "\n",
    "# one_hot_encoder = OneHotEncoder()\n",
    "\n",
    "# transformed_one_hot_encoding = one_hot_encoder.fit_transform(df[['job_city']])\n",
    "\n",
    "# ohe_df = pd.DataFrame(transformed_one_hot_encoding.toarray(), dtype='int')\n",
    "# ohe_df.head()"
   ]
  },
  {
   "cell_type": "code",
   "execution_count": null,
   "metadata": {},
   "outputs": [],
   "source": [
    "# ohe_final_df = df.join(ohe_df)\n",
    "# ohe_final_df"
   ]
  },
  {
   "cell_type": "code",
   "execution_count": null,
   "metadata": {},
   "outputs": [],
   "source": [
    "# Generate OHE using pandas dummy\n",
    "# dummy_df = pd.get_dummies(df['job_city'], prefix='job_city')\n",
    "# dummy_df"
   ]
  },
  {
   "cell_type": "code",
   "execution_count": null,
   "metadata": {},
   "outputs": [],
   "source": [
    "# dummy_df.style.applymap(lambda x: 'background-color: green' if x > 0 else 'background-color: yellow')"
   ]
  },
  {
   "cell_type": "code",
   "execution_count": null,
   "metadata": {},
   "outputs": [],
   "source": [
    "# Function to fill missing volumes with the mode value of each city\n",
    "# def fill_missing_city(df):\n",
    "#     if np.isnan(df['job_city']):\n",
    "#         return modeCity[modeCity['job_country'] == df['job_country']]['mode']\n",
    "    \n",
    "#     return df['job_city']\n",
    "\n",
    "# df['job_city'] = df.apply(fill_missing_city, axis=1)"
   ]
  },
  {
   "cell_type": "code",
   "execution_count": null,
   "metadata": {},
   "outputs": [],
   "source": [
    "# len(df['job_city'].unique())"
   ]
  },
  {
   "cell_type": "code",
   "execution_count": null,
   "metadata": {},
   "outputs": [],
   "source": [
    "# imputer = SimpleImputer(strategy='most_frequent')\n",
    "# imputer.fit_transform(df['job_city'])"
   ]
  },
  {
   "cell_type": "code",
   "execution_count": null,
   "metadata": {},
   "outputs": [],
   "source": [
    "# Impute job_city using the most frequent value\n",
    "# from sklearn.impute import SimpleImputer\n",
    "# impute_mode = SimpleImputer(strategy='most_frequent')\n",
    "# impute_mode.fit(df[['job_city']])\n",
    "\n",
    "# df[['job_city']] = impute_mode.fit_transform(df[['job_city']].values.reshape(-1,1))\n",
    "# df['job_city'].isna().sum()\n"
   ]
  },
  {
   "cell_type": "code",
   "execution_count": null,
   "metadata": {},
   "outputs": [],
   "source": [
    "# Drop missing rows\n",
    "# df_copy = df.copy()\n",
    "\n",
    "# df_copy.dropna(inplace=True)\n",
    "\n",
    "# df_copy.isna().sum()"
   ]
  }
 ],
 "metadata": {
  "kernelspec": {
   "display_name": "base",
   "language": "python",
   "name": "python3"
  },
  "language_info": {
   "codemirror_mode": {
    "name": "ipython",
    "version": 3
   },
   "file_extension": ".py",
   "mimetype": "text/x-python",
   "name": "python",
   "nbconvert_exporter": "python",
   "pygments_lexer": "ipython3",
   "version": "3.11.5"
  }
 },
 "nbformat": 4,
 "nbformat_minor": 2
}
