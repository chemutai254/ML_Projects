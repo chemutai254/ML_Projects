{
 "cells": [
  {
   "cell_type": "markdown",
   "metadata": {},
   "source": [
    "Job Post Analysis and Report"
   ]
  },
  {
   "cell_type": "code",
   "execution_count": 13,
   "metadata": {},
   "outputs": [],
   "source": [
    "# Import General Libraries\n",
    "import pandas as pd \n",
    "import numpy as np \n",
    "\n",
    "# Import Visualization Libraries\n",
    "import matplotlib.pyplot as plt \n",
    "import seaborn as sns "
   ]
  },
  {
   "cell_type": "markdown",
   "metadata": {},
   "source": [
    "## Loading Data"
   ]
  },
  {
   "cell_type": "code",
   "execution_count": 14,
   "metadata": {},
   "outputs": [
    {
     "data": {
      "text/html": [
       "<div>\n",
       "<style scoped>\n",
       "    .dataframe tbody tr th:only-of-type {\n",
       "        vertical-align: middle;\n",
       "    }\n",
       "\n",
       "    .dataframe tbody tr th {\n",
       "        vertical-align: top;\n",
       "    }\n",
       "\n",
       "    .dataframe thead th {\n",
       "        text-align: right;\n",
       "    }\n",
       "</style>\n",
       "<table border=\"1\" class=\"dataframe\">\n",
       "  <thead>\n",
       "    <tr style=\"text-align: right;\">\n",
       "      <th></th>\n",
       "      <th>job_id</th>\n",
       "      <th>job_employment_type</th>\n",
       "      <th>job_title</th>\n",
       "      <th>job_apply_link</th>\n",
       "      <th>job_description</th>\n",
       "      <th>job_city</th>\n",
       "      <th>job_country</th>\n",
       "      <th>job_posted_at_timestamp</th>\n",
       "      <th>employer_website</th>\n",
       "      <th>employer_company_type</th>\n",
       "    </tr>\n",
       "  </thead>\n",
       "  <tbody>\n",
       "    <tr>\n",
       "      <th>0</th>\n",
       "      <td>XX6946dvNO3187IkAAAAAA==</td>\n",
       "      <td>FULLTIME</td>\n",
       "      <td>Data Engineer</td>\n",
       "      <td>https://ca.linkedin.com/jobs/view/data-enginee...</td>\n",
       "      <td>• *Please note that our offices will be closed...</td>\n",
       "      <td>Montréal</td>\n",
       "      <td>CA</td>\n",
       "      <td>2023-12-19 20:22:04</td>\n",
       "      <td>NaN</td>\n",
       "      <td>NaN</td>\n",
       "    </tr>\n",
       "    <tr>\n",
       "      <th>1</th>\n",
       "      <td>6Wu7QcWfrhOR-THoAAAAAA==</td>\n",
       "      <td>FULLTIME</td>\n",
       "      <td>Data Engineer</td>\n",
       "      <td>https://ca.linkedin.com/jobs/view/data-enginee...</td>\n",
       "      <td>We are seeking an experienced and passionate D...</td>\n",
       "      <td>NaN</td>\n",
       "      <td>CA</td>\n",
       "      <td>2023-12-19 15:55:49</td>\n",
       "      <td>NaN</td>\n",
       "      <td>NaN</td>\n",
       "    </tr>\n",
       "    <tr>\n",
       "      <th>2</th>\n",
       "      <td>Oiu186OT5E6bkZReAAAAAA==</td>\n",
       "      <td>FULLTIME</td>\n",
       "      <td>2024 RBCIS, Summer Co-op Data Engineer / Full ...</td>\n",
       "      <td>https://ca.linkedin.com/jobs/view/2024-rbcis-s...</td>\n",
       "      <td>Job Summary\\n\\nJob Description\\n\\nWhat is the ...</td>\n",
       "      <td>Toronto</td>\n",
       "      <td>CA</td>\n",
       "      <td>2023-12-19 22:30:06</td>\n",
       "      <td>http://www.rbc.com</td>\n",
       "      <td>Finance</td>\n",
       "    </tr>\n",
       "  </tbody>\n",
       "</table>\n",
       "</div>"
      ],
      "text/plain": [
       "                     job_id job_employment_type  \\\n",
       "0  XX6946dvNO3187IkAAAAAA==            FULLTIME   \n",
       "1  6Wu7QcWfrhOR-THoAAAAAA==            FULLTIME   \n",
       "2  Oiu186OT5E6bkZReAAAAAA==            FULLTIME   \n",
       "\n",
       "                                           job_title  \\\n",
       "0                                      Data Engineer   \n",
       "1                                      Data Engineer   \n",
       "2  2024 RBCIS, Summer Co-op Data Engineer / Full ...   \n",
       "\n",
       "                                      job_apply_link  \\\n",
       "0  https://ca.linkedin.com/jobs/view/data-enginee...   \n",
       "1  https://ca.linkedin.com/jobs/view/data-enginee...   \n",
       "2  https://ca.linkedin.com/jobs/view/2024-rbcis-s...   \n",
       "\n",
       "                                     job_description  job_city job_country  \\\n",
       "0  • *Please note that our offices will be closed...  Montréal          CA   \n",
       "1  We are seeking an experienced and passionate D...       NaN          CA   \n",
       "2  Job Summary\\n\\nJob Description\\n\\nWhat is the ...   Toronto          CA   \n",
       "\n",
       "  job_posted_at_timestamp    employer_website employer_company_type  \n",
       "0     2023-12-19 20:22:04                 NaN                   NaN  \n",
       "1     2023-12-19 15:55:49                 NaN                   NaN  \n",
       "2     2023-12-19 22:30:06  http://www.rbc.com               Finance  "
      ]
     },
     "execution_count": 14,
     "metadata": {},
     "output_type": "execute_result"
    }
   ],
   "source": [
    "df = pd.read_csv(r'transformed_jobs_data.csv')\n",
    "df.head(3)"
   ]
  },
  {
   "cell_type": "code",
   "execution_count": 15,
   "metadata": {},
   "outputs": [],
   "source": [
    "# df['job_city'].unique()"
   ]
  },
  {
   "cell_type": "code",
   "execution_count": 16,
   "metadata": {},
   "outputs": [
    {
     "data": {
      "text/html": [
       "<div>\n",
       "<style scoped>\n",
       "    .dataframe tbody tr th:only-of-type {\n",
       "        vertical-align: middle;\n",
       "    }\n",
       "\n",
       "    .dataframe tbody tr th {\n",
       "        vertical-align: top;\n",
       "    }\n",
       "\n",
       "    .dataframe thead th {\n",
       "        text-align: right;\n",
       "    }\n",
       "</style>\n",
       "<table border=\"1\" class=\"dataframe\">\n",
       "  <thead>\n",
       "    <tr style=\"text-align: right;\">\n",
       "      <th></th>\n",
       "      <th>job_id</th>\n",
       "      <th>job_employment_type</th>\n",
       "      <th>job_title</th>\n",
       "      <th>job_apply_link</th>\n",
       "      <th>job_description</th>\n",
       "      <th>job_city</th>\n",
       "      <th>job_country</th>\n",
       "      <th>job_posted_at_timestamp</th>\n",
       "      <th>employer_website</th>\n",
       "      <th>employer_company_type</th>\n",
       "    </tr>\n",
       "  </thead>\n",
       "  <tbody>\n",
       "    <tr>\n",
       "      <th>161</th>\n",
       "      <td>0JxLam0cJtXsmjQZAAAAAA==</td>\n",
       "      <td>FULLTIME</td>\n",
       "      <td>Senior Cloud Data Engineer</td>\n",
       "      <td>https://www.linkedin.com/jobs/view/senior-clou...</td>\n",
       "      <td>Job Description\\n\\nJob Summary:\\n\\nThis positi...</td>\n",
       "      <td>Las Vegas</td>\n",
       "      <td>US</td>\n",
       "      <td>2023-12-19 12:11:14</td>\n",
       "      <td>http://www.bdo.com</td>\n",
       "      <td>Consulting</td>\n",
       "    </tr>\n",
       "    <tr>\n",
       "      <th>162</th>\n",
       "      <td>EGvoxwF7K6W0LOMtAAAAAA==</td>\n",
       "      <td>FULLTIME</td>\n",
       "      <td>Senior Cloud Data Engineer</td>\n",
       "      <td>https://www.linkedin.com/jobs/view/senior-clou...</td>\n",
       "      <td>Job Description\\n\\nJob Summary:\\n\\nThis positi...</td>\n",
       "      <td>Richmond</td>\n",
       "      <td>US</td>\n",
       "      <td>2023-12-19 10:42:36</td>\n",
       "      <td>http://www.bdo.com</td>\n",
       "      <td>Consulting</td>\n",
       "    </tr>\n",
       "    <tr>\n",
       "      <th>163</th>\n",
       "      <td>TvhAbNPDfD24fyHVAAAAAA==</td>\n",
       "      <td>FULLTIME</td>\n",
       "      <td>Senior Cloud Data Engineer</td>\n",
       "      <td>https://www.linkedin.com/jobs/view/senior-clou...</td>\n",
       "      <td>Job Description\\n\\nJob Summary:\\n\\nThis positi...</td>\n",
       "      <td>Fort Worth</td>\n",
       "      <td>US</td>\n",
       "      <td>2023-12-19 11:52:55</td>\n",
       "      <td>http://www.bdo.com</td>\n",
       "      <td>Consulting</td>\n",
       "    </tr>\n",
       "    <tr>\n",
       "      <th>164</th>\n",
       "      <td>6N_3eAHv_8HXYM0cAAAAAA==</td>\n",
       "      <td>FULLTIME</td>\n",
       "      <td>Senior Cloud Data Engineer</td>\n",
       "      <td>https://www.linkedin.com/jobs/view/senior-clou...</td>\n",
       "      <td>Job Description\\n\\nJob Summary:\\n\\nThis positi...</td>\n",
       "      <td>Columbus</td>\n",
       "      <td>US</td>\n",
       "      <td>2023-12-19 12:15:04</td>\n",
       "      <td>http://www.bdo.com</td>\n",
       "      <td>Consulting</td>\n",
       "    </tr>\n",
       "    <tr>\n",
       "      <th>165</th>\n",
       "      <td>iQu2KNPFHbJstSZuAAAAAA==</td>\n",
       "      <td>FULLTIME</td>\n",
       "      <td>Senior Cloud Data Engineer</td>\n",
       "      <td>https://www.linkedin.com/jobs/view/senior-clou...</td>\n",
       "      <td>Job Description\\n\\nJob Summary:\\n\\nThis positi...</td>\n",
       "      <td>Fort Lauderdale</td>\n",
       "      <td>US</td>\n",
       "      <td>2023-12-19 12:11:14</td>\n",
       "      <td>http://www.bdo.com</td>\n",
       "      <td>Consulting</td>\n",
       "    </tr>\n",
       "  </tbody>\n",
       "</table>\n",
       "</div>"
      ],
      "text/plain": [
       "                       job_id job_employment_type                   job_title  \\\n",
       "161  0JxLam0cJtXsmjQZAAAAAA==            FULLTIME  Senior Cloud Data Engineer   \n",
       "162  EGvoxwF7K6W0LOMtAAAAAA==            FULLTIME  Senior Cloud Data Engineer   \n",
       "163  TvhAbNPDfD24fyHVAAAAAA==            FULLTIME  Senior Cloud Data Engineer   \n",
       "164  6N_3eAHv_8HXYM0cAAAAAA==            FULLTIME  Senior Cloud Data Engineer   \n",
       "165  iQu2KNPFHbJstSZuAAAAAA==            FULLTIME  Senior Cloud Data Engineer   \n",
       "\n",
       "                                        job_apply_link  \\\n",
       "161  https://www.linkedin.com/jobs/view/senior-clou...   \n",
       "162  https://www.linkedin.com/jobs/view/senior-clou...   \n",
       "163  https://www.linkedin.com/jobs/view/senior-clou...   \n",
       "164  https://www.linkedin.com/jobs/view/senior-clou...   \n",
       "165  https://www.linkedin.com/jobs/view/senior-clou...   \n",
       "\n",
       "                                       job_description         job_city  \\\n",
       "161  Job Description\\n\\nJob Summary:\\n\\nThis positi...        Las Vegas   \n",
       "162  Job Description\\n\\nJob Summary:\\n\\nThis positi...         Richmond   \n",
       "163  Job Description\\n\\nJob Summary:\\n\\nThis positi...       Fort Worth   \n",
       "164  Job Description\\n\\nJob Summary:\\n\\nThis positi...         Columbus   \n",
       "165  Job Description\\n\\nJob Summary:\\n\\nThis positi...  Fort Lauderdale   \n",
       "\n",
       "    job_country job_posted_at_timestamp    employer_website  \\\n",
       "161          US     2023-12-19 12:11:14  http://www.bdo.com   \n",
       "162          US     2023-12-19 10:42:36  http://www.bdo.com   \n",
       "163          US     2023-12-19 11:52:55  http://www.bdo.com   \n",
       "164          US     2023-12-19 12:15:04  http://www.bdo.com   \n",
       "165          US     2023-12-19 12:11:14  http://www.bdo.com   \n",
       "\n",
       "    employer_company_type  \n",
       "161            Consulting  \n",
       "162            Consulting  \n",
       "163            Consulting  \n",
       "164            Consulting  \n",
       "165            Consulting  "
      ]
     },
     "execution_count": 16,
     "metadata": {},
     "output_type": "execute_result"
    }
   ],
   "source": [
    "df.tail()"
   ]
  },
  {
   "cell_type": "code",
   "execution_count": 17,
   "metadata": {},
   "outputs": [
    {
     "data": {
      "text/plain": [
       "(166, 10)"
      ]
     },
     "execution_count": 17,
     "metadata": {},
     "output_type": "execute_result"
    }
   ],
   "source": [
    "df.shape"
   ]
  },
  {
   "cell_type": "code",
   "execution_count": 18,
   "metadata": {},
   "outputs": [
    {
     "data": {
      "text/plain": [
       "job_id                      0\n",
       "job_employment_type         0\n",
       "job_title                   0\n",
       "job_apply_link              0\n",
       "job_description             0\n",
       "job_city                   38\n",
       "job_country                 0\n",
       "job_posted_at_timestamp     0\n",
       "employer_website           53\n",
       "employer_company_type      90\n",
       "dtype: int64"
      ]
     },
     "execution_count": 18,
     "metadata": {},
     "output_type": "execute_result"
    }
   ],
   "source": [
    "df.isnull().sum()"
   ]
  },
  {
   "cell_type": "code",
   "execution_count": 19,
   "metadata": {},
   "outputs": [
    {
     "data": {
      "text/plain": [
       "job_id                      0.00%\n",
       "job_employment_type         0.00%\n",
       "job_title                   0.00%\n",
       "job_apply_link              0.00%\n",
       "job_description             0.00%\n",
       "job_city                   22.89%\n",
       "job_country                 0.00%\n",
       "job_posted_at_timestamp     0.00%\n",
       "employer_website           31.93%\n",
       "employer_company_type      54.22%\n",
       "dtype: object"
      ]
     },
     "execution_count": 19,
     "metadata": {},
     "output_type": "execute_result"
    }
   ],
   "source": [
    "# Function to format null values to 2dp\n",
    "def formatt(x):\n",
    "    return '{:.2f}%'.format(x)\n",
    "\n",
    "((df.isnull().sum() / len(df)) * 100).apply(formatt)"
   ]
  },
  {
   "cell_type": "markdown",
   "metadata": {},
   "source": [
    "- Presence of missing data in **THREE** columns namely:\n",
    "    - job_city [22.89%]\n",
    "    - employer_website [31.93%]\n",
    "    - employer_company_type [54.22%]"
   ]
  },
  {
   "cell_type": "code",
   "execution_count": 20,
   "metadata": {},
   "outputs": [
    {
     "data": {
      "text/plain": [
       "job_id                     166\n",
       "job_employment_type          4\n",
       "job_title                   99\n",
       "job_apply_link             166\n",
       "job_description            153\n",
       "job_city                    70\n",
       "job_country                  3\n",
       "job_posted_at_timestamp    154\n",
       "employer_website            88\n",
       "employer_company_type       13\n",
       "dtype: int64"
      ]
     },
     "execution_count": 20,
     "metadata": {},
     "output_type": "execute_result"
    }
   ],
   "source": [
    "df.nunique()"
   ]
  },
  {
   "cell_type": "code",
   "execution_count": 21,
   "metadata": {},
   "outputs": [
    {
     "data": {
      "text/plain": [
       "False    166\n",
       "Name: count, dtype: int64"
      ]
     },
     "execution_count": 21,
     "metadata": {},
     "output_type": "execute_result"
    }
   ],
   "source": [
    "df.duplicated().value_counts()"
   ]
  },
  {
   "cell_type": "markdown",
   "metadata": {},
   "source": [
    "- No duplicates."
   ]
  },
  {
   "cell_type": "code",
   "execution_count": 22,
   "metadata": {},
   "outputs": [
    {
     "name": "stdout",
     "output_type": "stream",
     "text": [
      "<class 'pandas.core.frame.DataFrame'>\n",
      "RangeIndex: 166 entries, 0 to 165\n",
      "Data columns (total 10 columns):\n",
      " #   Column                   Non-Null Count  Dtype \n",
      "---  ------                   --------------  ----- \n",
      " 0   job_id                   166 non-null    object\n",
      " 1   job_employment_type      166 non-null    object\n",
      " 2   job_title                166 non-null    object\n",
      " 3   job_apply_link           166 non-null    object\n",
      " 4   job_description          166 non-null    object\n",
      " 5   job_city                 128 non-null    object\n",
      " 6   job_country              166 non-null    object\n",
      " 7   job_posted_at_timestamp  166 non-null    object\n",
      " 8   employer_website         113 non-null    object\n",
      " 9   employer_company_type    76 non-null     object\n",
      "dtypes: object(10)\n",
      "memory usage: 13.1+ KB\n"
     ]
    }
   ],
   "source": [
    "df.info()"
   ]
  },
  {
   "cell_type": "code",
   "execution_count": 23,
   "metadata": {},
   "outputs": [
    {
     "data": {
      "text/html": [
       "<div>\n",
       "<style scoped>\n",
       "    .dataframe tbody tr th:only-of-type {\n",
       "        vertical-align: middle;\n",
       "    }\n",
       "\n",
       "    .dataframe tbody tr th {\n",
       "        vertical-align: top;\n",
       "    }\n",
       "\n",
       "    .dataframe thead th {\n",
       "        text-align: right;\n",
       "    }\n",
       "</style>\n",
       "<table border=\"1\" class=\"dataframe\">\n",
       "  <thead>\n",
       "    <tr style=\"text-align: right;\">\n",
       "      <th></th>\n",
       "      <th>job_country</th>\n",
       "      <th>job_city</th>\n",
       "    </tr>\n",
       "  </thead>\n",
       "  <tbody>\n",
       "    <tr>\n",
       "      <th>0</th>\n",
       "      <td>CA</td>\n",
       "      <td>26</td>\n",
       "    </tr>\n",
       "    <tr>\n",
       "      <th>1</th>\n",
       "      <td>GB</td>\n",
       "      <td>48</td>\n",
       "    </tr>\n",
       "    <tr>\n",
       "      <th>2</th>\n",
       "      <td>US</td>\n",
       "      <td>54</td>\n",
       "    </tr>\n",
       "  </tbody>\n",
       "</table>\n",
       "</div>"
      ],
      "text/plain": [
       "  job_country  job_city\n",
       "0          CA        26\n",
       "1          GB        48\n",
       "2          US        54"
      ]
     },
     "execution_count": 23,
     "metadata": {},
     "output_type": "execute_result"
    }
   ],
   "source": [
    "# Impute missing job_city \n",
    "modeCity = df.groupby('job_country')['job_city'].count().reset_index()\n",
    "modeCity.columns = ['job_country', 'job_city']\n",
    "modeCity\n",
    "\n",
    "    "
   ]
  },
  {
   "cell_type": "code",
   "execution_count": 30,
   "metadata": {},
   "outputs": [],
   "source": [
    "# Function to fill missing volumes with the mode value of each city\n",
    "# def fill_missing_city(df):\n",
    "#     if np.isnan(df['job_city']):\n",
    "#         return modeCity[modeCity['job_country'] == df['job_country']]['mode']\n",
    "    \n",
    "#     return df['job_city']\n",
    "\n",
    "# df['job_city'] = df.apply(fill_missing_city, axis=1)"
   ]
  },
  {
   "cell_type": "code",
   "execution_count": 39,
   "metadata": {},
   "outputs": [
    {
     "data": {
      "text/plain": [
       "Index(['job_id', 'job_employment_type', 'job_title', 'job_apply_link',\n",
       "       'job_description', 'job_city', 'job_country', 'job_posted_at_timestamp',\n",
       "       'employer_website', 'employer_company_type'],\n",
       "      dtype='object')"
      ]
     },
     "execution_count": 39,
     "metadata": {},
     "output_type": "execute_result"
    }
   ],
   "source": [
    "df.columns"
   ]
  },
  {
   "cell_type": "code",
   "execution_count": 40,
   "metadata": {},
   "outputs": [],
   "source": [
    "from sklearn.experimental import enable_iterative_imputer \n",
    "from sklearn.impute import IterativeImputer"
   ]
  },
  {
   "cell_type": "code",
   "execution_count": 41,
   "metadata": {},
   "outputs": [],
   "source": [
    "city_imputer = IterativeImputer(max_iter=10, random_state=0)\n",
    "city_imputer.fit([[]])"
   ]
  },
  {
   "cell_type": "code",
   "execution_count": null,
   "metadata": {},
   "outputs": [
    {
     "data": {
      "text/plain": [
       "71"
      ]
     },
     "execution_count": 12,
     "metadata": {},
     "output_type": "execute_result"
    }
   ],
   "source": [
    "len(df['job_city'].unique())"
   ]
  },
  {
   "cell_type": "code",
   "execution_count": null,
   "metadata": {},
   "outputs": [],
   "source": [
    "# imputer = SimpleImputer(strategy='most_frequent')\n",
    "# imputer.fit_transform(df['job_city'])"
   ]
  },
  {
   "cell_type": "code",
   "execution_count": 36,
   "metadata": {},
   "outputs": [
    {
     "data": {
      "text/plain": [
       "0"
      ]
     },
     "execution_count": 36,
     "metadata": {},
     "output_type": "execute_result"
    }
   ],
   "source": [
    "# Impute job_city using the most frequent value\n",
    "# from sklearn.impute import SimpleImputer\n",
    "# impute_mode = SimpleImputer(strategy='most_frequent')\n",
    "# impute_mode.fit(df[['job_city']])\n",
    "\n",
    "# df[['job_city']] = impute_mode.fit_transform(df[['job_city']].values.reshape(-1,1))\n",
    "# df['job_city'].isna().sum()\n"
   ]
  },
  {
   "cell_type": "code",
   "execution_count": 37,
   "metadata": {},
   "outputs": [
    {
     "name": "stdout",
     "output_type": "stream",
     "text": [
      "<class 'pandas.core.frame.DataFrame'>\n",
      "RangeIndex: 166 entries, 0 to 165\n",
      "Data columns (total 10 columns):\n",
      " #   Column                   Non-Null Count  Dtype \n",
      "---  ------                   --------------  ----- \n",
      " 0   job_id                   166 non-null    object\n",
      " 1   job_employment_type      166 non-null    object\n",
      " 2   job_title                166 non-null    object\n",
      " 3   job_apply_link           166 non-null    object\n",
      " 4   job_description          166 non-null    object\n",
      " 5   job_city                 166 non-null    object\n",
      " 6   job_country              166 non-null    object\n",
      " 7   job_posted_at_timestamp  166 non-null    object\n",
      " 8   employer_website         113 non-null    object\n",
      " 9   employer_company_type    76 non-null     object\n",
      "dtypes: object(10)\n",
      "memory usage: 13.1+ KB\n"
     ]
    }
   ],
   "source": [
    "df.info()"
   ]
  },
  {
   "cell_type": "code",
   "execution_count": 33,
   "metadata": {},
   "outputs": [],
   "source": [
    "# Drop missing rows\n",
    "# df_copy = df.copy()\n",
    "\n",
    "# df_copy.dropna(inplace=True)\n",
    "\n",
    "# df_copy.isna().sum()"
   ]
  },
  {
   "cell_type": "markdown",
   "metadata": {},
   "source": [
    "### Exploratory Data Analysis"
   ]
  },
  {
   "cell_type": "code",
   "execution_count": null,
   "metadata": {},
   "outputs": [],
   "source": []
  }
 ],
 "metadata": {
  "kernelspec": {
   "display_name": "base",
   "language": "python",
   "name": "python3"
  },
  "language_info": {
   "codemirror_mode": {
    "name": "ipython",
    "version": 3
   },
   "file_extension": ".py",
   "mimetype": "text/x-python",
   "name": "python",
   "nbconvert_exporter": "python",
   "pygments_lexer": "ipython3",
   "version": "3.11.5"
  }
 },
 "nbformat": 4,
 "nbformat_minor": 2
}
