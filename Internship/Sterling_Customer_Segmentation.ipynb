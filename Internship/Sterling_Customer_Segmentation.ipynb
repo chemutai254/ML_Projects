{
 "cells": [
  {
   "cell_type": "markdown",
   "metadata": {},
   "source": [
    "### Sterling E-Commerce Customer Segmentation"
   ]
  },
  {
   "cell_type": "code",
   "execution_count": 36,
   "metadata": {},
   "outputs": [],
   "source": [
    "# Import Data Analysis Libraries\n",
    "import numpy as np\n",
    "import pandas as pd\n",
    "\n",
    "# Import Visualization Libraries\n",
    "import seaborn as sns\n",
    "import matplotlib.pyplot as plt\n",
    "\n",
    "# ML and Evaluation Libraries\n",
    "from sklearn.cluster import KMeans\n",
    "from scipy.cluster.hierarchy import dendrogram, linkage\n",
    "from sklearn.metrics import silhouette_score, homogeneity_score\n",
    "\n",
    "import warnings\n",
    "warnings.filterwarnings(\"ignore\")"
   ]
  },
  {
   "cell_type": "code",
   "execution_count": 37,
   "metadata": {},
   "outputs": [],
   "source": [
    "# df1 = pd.read_excel(r\"../Internship/Sterling_E-Commerce_Data.xlsx\")\n",
    "# df1.head()"
   ]
  },
  {
   "cell_type": "code",
   "execution_count": 38,
   "metadata": {},
   "outputs": [
    {
     "data": {
      "text/html": [
       "<div>\n",
       "<style scoped>\n",
       "    .dataframe tbody tr th:only-of-type {\n",
       "        vertical-align: middle;\n",
       "    }\n",
       "\n",
       "    .dataframe tbody tr th {\n",
       "        vertical-align: top;\n",
       "    }\n",
       "\n",
       "    .dataframe thead th {\n",
       "        text-align: right;\n",
       "    }\n",
       "</style>\n",
       "<table border=\"1\" class=\"dataframe\">\n",
       "  <thead>\n",
       "    <tr style=\"text-align: right;\">\n",
       "      <th></th>\n",
       "      <th>Category</th>\n",
       "      <th>City</th>\n",
       "      <th>County</th>\n",
       "      <th>Cust Id</th>\n",
       "      <th>Customer Since</th>\n",
       "      <th>Date of Order</th>\n",
       "      <th>Full Name</th>\n",
       "      <th>Gender</th>\n",
       "      <th>Item Id</th>\n",
       "      <th>Order Id</th>\n",
       "      <th>Payment Method</th>\n",
       "      <th>Place Name</th>\n",
       "      <th>Ref Num</th>\n",
       "      <th>Region</th>\n",
       "      <th>State</th>\n",
       "      <th>User Name</th>\n",
       "      <th>Zip</th>\n",
       "      <th>Qty Ordered</th>\n",
       "      <th>Total</th>\n",
       "    </tr>\n",
       "  </thead>\n",
       "  <tbody>\n",
       "    <tr>\n",
       "      <th>0</th>\n",
       "      <td>Health &amp; Sports</td>\n",
       "      <td>Bode</td>\n",
       "      <td>Humboldt</td>\n",
       "      <td>112285</td>\n",
       "      <td>2008-02-11</td>\n",
       "      <td>2022-08-07</td>\n",
       "      <td>Renaud, Maudie</td>\n",
       "      <td>F</td>\n",
       "      <td>880913</td>\n",
       "      <td>100547952.0</td>\n",
       "      <td>Easypay_MA</td>\n",
       "      <td>Bode</td>\n",
       "      <td>352808</td>\n",
       "      <td>Midwest</td>\n",
       "      <td>IA</td>\n",
       "      <td>mcrenaud</td>\n",
       "      <td>50519</td>\n",
       "      <td>3</td>\n",
       "      <td>32.0</td>\n",
       "    </tr>\n",
       "    <tr>\n",
       "      <th>1</th>\n",
       "      <td>Men's Fashion</td>\n",
       "      <td>Belleville</td>\n",
       "      <td>St. Clair</td>\n",
       "      <td>112386</td>\n",
       "      <td>2005-06-23</td>\n",
       "      <td>2022-08-08</td>\n",
       "      <td>Shimp, Mariela</td>\n",
       "      <td>F</td>\n",
       "      <td>881493</td>\n",
       "      <td>100548328.0</td>\n",
       "      <td>Easypay_MA</td>\n",
       "      <td>Belleville</td>\n",
       "      <td>310849</td>\n",
       "      <td>Midwest</td>\n",
       "      <td>IL</td>\n",
       "      <td>mgshimp</td>\n",
       "      <td>62223</td>\n",
       "      <td>2</td>\n",
       "      <td>74.8</td>\n",
       "    </tr>\n",
       "    <tr>\n",
       "      <th>2</th>\n",
       "      <td>Men's Fashion</td>\n",
       "      <td>Belleville</td>\n",
       "      <td>St. Clair</td>\n",
       "      <td>112386</td>\n",
       "      <td>2005-06-23</td>\n",
       "      <td>2022-08-08</td>\n",
       "      <td>Shimp, Mariela</td>\n",
       "      <td>F</td>\n",
       "      <td>881492</td>\n",
       "      <td>100548328.0</td>\n",
       "      <td>Easypay_MA</td>\n",
       "      <td>Belleville</td>\n",
       "      <td>310849</td>\n",
       "      <td>Midwest</td>\n",
       "      <td>IL</td>\n",
       "      <td>mgshimp</td>\n",
       "      <td>62223</td>\n",
       "      <td>2</td>\n",
       "      <td>74.9</td>\n",
       "    </tr>\n",
       "    <tr>\n",
       "      <th>3</th>\n",
       "      <td>Computing</td>\n",
       "      <td>Young America</td>\n",
       "      <td>Carver</td>\n",
       "      <td>112501</td>\n",
       "      <td>2013-09-15</td>\n",
       "      <td>2022-08-18</td>\n",
       "      <td>Doiron, Latrina</td>\n",
       "      <td>F</td>\n",
       "      <td>886067</td>\n",
       "      <td>100551079.0</td>\n",
       "      <td>Payaxis</td>\n",
       "      <td>Young America</td>\n",
       "      <td>578056</td>\n",
       "      <td>Midwest</td>\n",
       "      <td>MN</td>\n",
       "      <td>lmdoiron</td>\n",
       "      <td>55552</td>\n",
       "      <td>2</td>\n",
       "      <td>6822.9</td>\n",
       "    </tr>\n",
       "    <tr>\n",
       "      <th>4</th>\n",
       "      <td>Entertainment</td>\n",
       "      <td>Young America</td>\n",
       "      <td>Carver</td>\n",
       "      <td>112501</td>\n",
       "      <td>2013-09-15</td>\n",
       "      <td>2022-08-20</td>\n",
       "      <td>Doiron, Latrina</td>\n",
       "      <td>F</td>\n",
       "      <td>886878</td>\n",
       "      <td>100551618.0</td>\n",
       "      <td>Payaxis</td>\n",
       "      <td>Young America</td>\n",
       "      <td>578056</td>\n",
       "      <td>Midwest</td>\n",
       "      <td>MN</td>\n",
       "      <td>lmdoiron</td>\n",
       "      <td>55552</td>\n",
       "      <td>2</td>\n",
       "      <td>2849.9</td>\n",
       "    </tr>\n",
       "  </tbody>\n",
       "</table>\n",
       "</div>"
      ],
      "text/plain": [
       "          Category           City     County  Cust Id Customer Since  \\\n",
       "0  Health & Sports           Bode   Humboldt   112285     2008-02-11   \n",
       "1    Men's Fashion     Belleville  St. Clair   112386     2005-06-23   \n",
       "2    Men's Fashion     Belleville  St. Clair   112386     2005-06-23   \n",
       "3        Computing  Young America     Carver   112501     2013-09-15   \n",
       "4    Entertainment  Young America     Carver   112501     2013-09-15   \n",
       "\n",
       "  Date of Order        Full Name Gender  Item Id     Order Id Payment Method  \\\n",
       "0    2022-08-07   Renaud, Maudie      F   880913  100547952.0     Easypay_MA   \n",
       "1    2022-08-08   Shimp, Mariela      F   881493  100548328.0     Easypay_MA   \n",
       "2    2022-08-08   Shimp, Mariela      F   881492  100548328.0     Easypay_MA   \n",
       "3    2022-08-18  Doiron, Latrina      F   886067  100551079.0        Payaxis   \n",
       "4    2022-08-20  Doiron, Latrina      F   886878  100551618.0        Payaxis   \n",
       "\n",
       "      Place Name  Ref Num   Region State User Name    Zip  Qty Ordered   Total  \n",
       "0           Bode   352808  Midwest    IA  mcrenaud  50519            3    32.0  \n",
       "1     Belleville   310849  Midwest    IL   mgshimp  62223            2    74.8  \n",
       "2     Belleville   310849  Midwest    IL   mgshimp  62223            2    74.9  \n",
       "3  Young America   578056  Midwest    MN  lmdoiron  55552            2  6822.9  \n",
       "4  Young America   578056  Midwest    MN  lmdoiron  55552            2  2849.9  "
      ]
     },
     "execution_count": 38,
     "metadata": {},
     "output_type": "execute_result"
    }
   ],
   "source": [
    "# Import Data\n",
    "df = pd.read_excel(r\"..\\Internship\\Sterling_E-Commerce_Data.xlsx\")\n",
    "df.head()"
   ]
  },
  {
   "cell_type": "code",
   "execution_count": 39,
   "metadata": {},
   "outputs": [
    {
     "data": {
      "text/plain": [
       "array(['Health & Sports', \"Men's Fashion\", 'Computing', 'Entertainment',\n",
       "       'Mobiles & Tablets', 'Superstore', 'Appliances',\n",
       "       'Beauty & Grooming', 'Home & Living', 'Soghaat', \"Women's Fashion\",\n",
       "       'School & Education', 'Books', 'Kids & Baby', 'Others'],\n",
       "      dtype=object)"
      ]
     },
     "execution_count": 39,
     "metadata": {},
     "output_type": "execute_result"
    }
   ],
   "source": [
    "df['Category'].unique()"
   ]
  },
  {
   "cell_type": "code",
   "execution_count": 40,
   "metadata": {},
   "outputs": [
    {
     "data": {
      "text/plain": [
       "array(['Midwest', 'West', 'South', 'Northeast'], dtype=object)"
      ]
     },
     "execution_count": 40,
     "metadata": {},
     "output_type": "execute_result"
    }
   ],
   "source": [
    "df['Region'].unique()"
   ]
  },
  {
   "cell_type": "code",
   "execution_count": 41,
   "metadata": {},
   "outputs": [
    {
     "data": {
      "text/plain": [
       "array(['Easypay_MA', 'Payaxis', 'apg', 'bankalfalah', 'cod',\n",
       "       'customercredit', 'easypay_voucher', 'Easypay', 'jazzvoucher',\n",
       "       'jazzwallet', 'mcblite', 'cashatdoorstep', 'financesettlement'],\n",
       "      dtype=object)"
      ]
     },
     "execution_count": 41,
     "metadata": {},
     "output_type": "execute_result"
    }
   ],
   "source": [
    "df['Payment Method'].unique()"
   ]
  },
  {
   "cell_type": "code",
   "execution_count": 42,
   "metadata": {},
   "outputs": [
    {
     "name": "stdout",
     "output_type": "stream",
     "text": [
      "<class 'pandas.core.frame.DataFrame'>\n",
      "RangeIndex: 283083 entries, 0 to 283082\n",
      "Data columns (total 19 columns):\n",
      " #   Column          Non-Null Count   Dtype         \n",
      "---  ------          --------------   -----         \n",
      " 0   Category        283083 non-null  object        \n",
      " 1   City            283083 non-null  object        \n",
      " 2   County          283083 non-null  object        \n",
      " 3   Cust Id         283083 non-null  int64         \n",
      " 4   Customer Since  283083 non-null  datetime64[ns]\n",
      " 5   Date of Order   283083 non-null  datetime64[ns]\n",
      " 6   Full Name       283083 non-null  object        \n",
      " 7   Gender          283083 non-null  object        \n",
      " 8   Item Id         283083 non-null  int64         \n",
      " 9   Order Id        283078 non-null  float64       \n",
      " 10  Payment Method  283083 non-null  object        \n",
      " 11  Place Name      283083 non-null  object        \n",
      " 12  Ref Num         283083 non-null  int64         \n",
      " 13  Region          283083 non-null  object        \n",
      " 14  State           283083 non-null  object        \n",
      " 15  User Name       283083 non-null  object        \n",
      " 16  Zip             283083 non-null  int64         \n",
      " 17  Qty Ordered     283083 non-null  int64         \n",
      " 18  Total           283083 non-null  float64       \n",
      "dtypes: datetime64[ns](2), float64(2), int64(5), object(10)\n",
      "memory usage: 41.0+ MB\n"
     ]
    }
   ],
   "source": [
    "df.info()"
   ]
  },
  {
   "cell_type": "code",
   "execution_count": 43,
   "metadata": {},
   "outputs": [
    {
     "data": {
      "text/plain": [
       "(283083, 19)"
      ]
     },
     "execution_count": 43,
     "metadata": {},
     "output_type": "execute_result"
    }
   ],
   "source": [
    "# Impute order quantity with mean\n",
    "#df['Order Id'].fillna(df['Order Id'].mean(), inplace=True)\n",
    "df.shape"
   ]
  },
  {
   "cell_type": "markdown",
   "metadata": {},
   "source": [
    "### Data Pre-Processing"
   ]
  },
  {
   "cell_type": "code",
   "execution_count": 44,
   "metadata": {},
   "outputs": [
    {
     "data": {
      "text/plain": [
       "Category          0\n",
       "City              0\n",
       "County            0\n",
       "Cust Id           0\n",
       "Customer Since    0\n",
       "Date of Order     0\n",
       "Full Name         0\n",
       "Gender            0\n",
       "Item Id           0\n",
       "Order Id          5\n",
       "Payment Method    0\n",
       "Place Name        0\n",
       "Ref Num           0\n",
       "Region            0\n",
       "State             0\n",
       "User Name         0\n",
       "Zip               0\n",
       "Qty Ordered       0\n",
       "Total             0\n",
       "dtype: int64"
      ]
     },
     "execution_count": 44,
     "metadata": {},
     "output_type": "execute_result"
    }
   ],
   "source": [
    "# Checking for missing values\n",
    "null_val = df.isnull().sum()\n",
    "null_val"
   ]
  },
  {
   "cell_type": "code",
   "execution_count": 45,
   "metadata": {},
   "outputs": [],
   "source": [
    "# Drop null values\n",
    "df.dropna(inplace=True)"
   ]
  },
  {
   "cell_type": "markdown",
   "metadata": {},
   "source": [
    "- Five missing values in Order Id column"
   ]
  },
  {
   "cell_type": "code",
   "execution_count": 46,
   "metadata": {},
   "outputs": [
    {
     "data": {
      "text/plain": [
       "Category          0\n",
       "City              0\n",
       "County            0\n",
       "Cust Id           0\n",
       "Customer Since    0\n",
       "Date of Order     0\n",
       "Full Name         0\n",
       "Gender            0\n",
       "Item Id           0\n",
       "Order Id          0\n",
       "Payment Method    0\n",
       "Place Name        0\n",
       "Ref Num           0\n",
       "Region            0\n",
       "State             0\n",
       "User Name         0\n",
       "Zip               0\n",
       "Qty Ordered       0\n",
       "Total             0\n",
       "dtype: int64"
      ]
     },
     "execution_count": 46,
     "metadata": {},
     "output_type": "execute_result"
    }
   ],
   "source": [
    "df.isnull().sum()"
   ]
  },
  {
   "cell_type": "code",
   "execution_count": 47,
   "metadata": {},
   "outputs": [
    {
     "data": {
      "text/html": [
       "<div>\n",
       "<style scoped>\n",
       "    .dataframe tbody tr th:only-of-type {\n",
       "        vertical-align: middle;\n",
       "    }\n",
       "\n",
       "    .dataframe tbody tr th {\n",
       "        vertical-align: top;\n",
       "    }\n",
       "\n",
       "    .dataframe thead th {\n",
       "        text-align: right;\n",
       "    }\n",
       "</style>\n",
       "<table border=\"1\" class=\"dataframe\">\n",
       "  <thead>\n",
       "    <tr style=\"text-align: right;\">\n",
       "      <th></th>\n",
       "      <th>Cust Id</th>\n",
       "      <th>Customer Since</th>\n",
       "      <th>Date of Order</th>\n",
       "      <th>Item Id</th>\n",
       "      <th>Order Id</th>\n",
       "      <th>Ref Num</th>\n",
       "      <th>Zip</th>\n",
       "      <th>Qty Ordered</th>\n",
       "      <th>Total</th>\n",
       "    </tr>\n",
       "  </thead>\n",
       "  <tbody>\n",
       "    <tr>\n",
       "      <th>count</th>\n",
       "      <td>283078.000000</td>\n",
       "      <td>283078</td>\n",
       "      <td>283078</td>\n",
       "      <td>283078.000000</td>\n",
       "      <td>2.830780e+05</td>\n",
       "      <td>283078.000000</td>\n",
       "      <td>283078.000000</td>\n",
       "      <td>283078.000000</td>\n",
       "      <td>283078.000000</td>\n",
       "    </tr>\n",
       "    <tr>\n",
       "      <th>mean</th>\n",
       "      <td>70106.401674</td>\n",
       "      <td>2007-10-11 21:38:59.406100224</td>\n",
       "      <td>2022-03-12 12:21:32.285518336</td>\n",
       "      <td>741745.081239</td>\n",
       "      <td>1.004570e+08</td>\n",
       "      <td>561103.707236</td>\n",
       "      <td>49147.444333</td>\n",
       "      <td>3.008238</td>\n",
       "      <td>816.232342</td>\n",
       "    </tr>\n",
       "    <tr>\n",
       "      <th>min</th>\n",
       "      <td>4.000000</td>\n",
       "      <td>1978-11-04 00:00:00</td>\n",
       "      <td>2021-10-01 00:00:00</td>\n",
       "      <td>574769.000000</td>\n",
       "      <td>1.003547e+08</td>\n",
       "      <td>111127.000000</td>\n",
       "      <td>210.000000</td>\n",
       "      <td>1.000000</td>\n",
       "      <td>0.000000</td>\n",
       "    </tr>\n",
       "    <tr>\n",
       "      <th>25%</th>\n",
       "      <td>56640.000000</td>\n",
       "      <td>2002-08-24 00:00:00</td>\n",
       "      <td>2021-12-24 00:00:00</td>\n",
       "      <td>659897.250000</td>\n",
       "      <td>1.004047e+08</td>\n",
       "      <td>341071.000000</td>\n",
       "      <td>26264.000000</td>\n",
       "      <td>2.000000</td>\n",
       "      <td>49.900000</td>\n",
       "    </tr>\n",
       "    <tr>\n",
       "      <th>50%</th>\n",
       "      <td>74320.000000</td>\n",
       "      <td>2010-03-22 00:00:00</td>\n",
       "      <td>2022-03-16 00:00:00</td>\n",
       "      <td>742468.500000</td>\n",
       "      <td>1.004518e+08</td>\n",
       "      <td>565623.000000</td>\n",
       "      <td>48808.000000</td>\n",
       "      <td>2.000000</td>\n",
       "      <td>149.800000</td>\n",
       "    </tr>\n",
       "    <tr>\n",
       "      <th>75%</th>\n",
       "      <td>92371.000000</td>\n",
       "      <td>2015-01-05 00:00:00</td>\n",
       "      <td>2022-05-18 00:00:00</td>\n",
       "      <td>826075.750000</td>\n",
       "      <td>1.005134e+08</td>\n",
       "      <td>782182.250000</td>\n",
       "      <td>72004.750000</td>\n",
       "      <td>3.000000</td>\n",
       "      <td>800.000000</td>\n",
       "    </tr>\n",
       "    <tr>\n",
       "      <th>max</th>\n",
       "      <td>115326.000000</td>\n",
       "      <td>2017-07-28 00:00:00</td>\n",
       "      <td>2022-09-30 00:00:00</td>\n",
       "      <td>905208.000000</td>\n",
       "      <td>1.005624e+08</td>\n",
       "      <td>999981.000000</td>\n",
       "      <td>99402.000000</td>\n",
       "      <td>501.000000</td>\n",
       "      <td>101262.590000</td>\n",
       "    </tr>\n",
       "    <tr>\n",
       "      <th>std</th>\n",
       "      <td>30215.281047</td>\n",
       "      <td>NaN</td>\n",
       "      <td>NaN</td>\n",
       "      <td>95664.051170</td>\n",
       "      <td>6.090992e+04</td>\n",
       "      <td>256099.906291</td>\n",
       "      <td>27235.638638</td>\n",
       "      <td>4.565207</td>\n",
       "      <td>1986.176881</td>\n",
       "    </tr>\n",
       "  </tbody>\n",
       "</table>\n",
       "</div>"
      ],
      "text/plain": [
       "             Cust Id                 Customer Since  \\\n",
       "count  283078.000000                         283078   \n",
       "mean    70106.401674  2007-10-11 21:38:59.406100224   \n",
       "min         4.000000            1978-11-04 00:00:00   \n",
       "25%     56640.000000            2002-08-24 00:00:00   \n",
       "50%     74320.000000            2010-03-22 00:00:00   \n",
       "75%     92371.000000            2015-01-05 00:00:00   \n",
       "max    115326.000000            2017-07-28 00:00:00   \n",
       "std     30215.281047                            NaN   \n",
       "\n",
       "                       Date of Order        Item Id      Order Id  \\\n",
       "count                         283078  283078.000000  2.830780e+05   \n",
       "mean   2022-03-12 12:21:32.285518336  741745.081239  1.004570e+08   \n",
       "min              2021-10-01 00:00:00  574769.000000  1.003547e+08   \n",
       "25%              2021-12-24 00:00:00  659897.250000  1.004047e+08   \n",
       "50%              2022-03-16 00:00:00  742468.500000  1.004518e+08   \n",
       "75%              2022-05-18 00:00:00  826075.750000  1.005134e+08   \n",
       "max              2022-09-30 00:00:00  905208.000000  1.005624e+08   \n",
       "std                              NaN   95664.051170  6.090992e+04   \n",
       "\n",
       "             Ref Num            Zip    Qty Ordered          Total  \n",
       "count  283078.000000  283078.000000  283078.000000  283078.000000  \n",
       "mean   561103.707236   49147.444333       3.008238     816.232342  \n",
       "min    111127.000000     210.000000       1.000000       0.000000  \n",
       "25%    341071.000000   26264.000000       2.000000      49.900000  \n",
       "50%    565623.000000   48808.000000       2.000000     149.800000  \n",
       "75%    782182.250000   72004.750000       3.000000     800.000000  \n",
       "max    999981.000000   99402.000000     501.000000  101262.590000  \n",
       "std    256099.906291   27235.638638       4.565207    1986.176881  "
      ]
     },
     "execution_count": 47,
     "metadata": {},
     "output_type": "execute_result"
    }
   ],
   "source": [
    "df.describe()"
   ]
  },
  {
   "cell_type": "code",
   "execution_count": 48,
   "metadata": {},
   "outputs": [],
   "source": [
    "# Drop unique columns\n",
    "#df.drop('Cust Id', axis=1, inplace=True)\n",
    "#df.drop('Item Id', axis=1, inplace=True)\n",
    "#df.drop('Order Id', axis=1, inplace=True)\n",
    "#df.drop('Ref Num', axis=1, inplace=True)\n",
    "#df.drop('Zip', axis=1, inplace=True)"
   ]
  },
  {
   "cell_type": "code",
   "execution_count": 49,
   "metadata": {},
   "outputs": [
    {
     "data": {
      "text/plain": [
       "0"
      ]
     },
     "execution_count": 49,
     "metadata": {},
     "output_type": "execute_result"
    }
   ],
   "source": [
    "# Check for duplicates\n",
    "dup = df.duplicated().sum()\n",
    "dup"
   ]
  },
  {
   "cell_type": "markdown",
   "metadata": {},
   "source": [
    "- No duplicates."
   ]
  },
  {
   "cell_type": "markdown",
   "metadata": {},
   "source": [
    "### Exploratory Data  Analysis"
   ]
  },
  {
   "cell_type": "markdown",
   "metadata": {},
   "source": [
    "#### Univariate Data Analysis"
   ]
  },
  {
   "cell_type": "code",
   "execution_count": 50,
   "metadata": {},
   "outputs": [],
   "source": [
    "# # Compute Total Sales\n",
    "# total_sales = df['Total'].sum()\n",
    "# total_quantity = df['Qty Ordered'].sum()\n",
    "# total_orders_made = df['Order Id'].size()\n",
    "\n",
    "# df = pd.DataFrame({'Total_Sales': total_sales, 'Total Orders': total_orders_made});"
   ]
  },
  {
   "cell_type": "code",
   "execution_count": 51,
   "metadata": {},
   "outputs": [
    {
     "data": {
      "image/png": "[encoded data removed]",
      "text/plain": [
       "<Figure size 2000x750 with 4 Axes>"
      ]
     },
     "metadata": {},
     "output_type": "display_data"
    }
   ],
   "source": [
    "fig, axis = plt.subplots(2,2, figsize = (20, 7.5))\n",
    "plt1 = sns.boxplot(df['Cust Id'], ax=axis[0,0])\n",
    "plt2 = sns.boxplot(df['Item Id'], ax=axis[0,1])\n",
    "plt3 = sns.boxplot(df['Order Id'], ax=axis[1,0])\n",
    "plt4 = sns.boxplot(df['Total'], ax=axis[1,1])\n",
    "\n",
    "plt.tight_layout()"
   ]
  },
  {
   "cell_type": "code",
   "execution_count": null,
   "metadata": {},
   "outputs": [],
   "source": []
  },
  {
   "cell_type": "code",
   "execution_count": 52,
   "metadata": {},
   "outputs": [
    {
     "data": {
      "text/plain": [
       "Index(['Category', 'City', 'County', 'Cust Id', 'Customer Since',\n",
       "       'Date of Order', 'Full Name', 'Gender', 'Item Id', 'Order Id',\n",
       "       'Payment Method', 'Place Name', 'Ref Num', 'Region', 'State',\n",
       "       'User Name', 'Zip', 'Qty Ordered', 'Total'],\n",
       "      dtype='object')"
      ]
     },
     "execution_count": 52,
     "metadata": {},
     "output_type": "execute_result"
    }
   ],
   "source": [
    "df.columns"
   ]
  }
 ],
 "metadata": {
  "kernelspec": {
   "display_name": "base",
   "language": "python",
   "name": "python3"
  },
  "language_info": {
   "codemirror_mode": {
    "name": "ipython",
    "version": 3
   },
   "file_extension": ".py",
   "mimetype": "text/x-python",
   "name": "python",
   "nbconvert_exporter": "python",
   "pygments_lexer": "ipython3",
   "version": "3.11.5"
  }
 },
 "nbformat": 4,
 "nbformat_minor": 2
}
