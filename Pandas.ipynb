{
 "cells": [
  {
   "cell_type": "markdown",
   "metadata": {},
   "source": [
    "### PANDAS - Python Data Analysis Library\n",
    "- Provides fast, flexible, and expressive data sctructures designed to make working with \"relational\" or \"labeled\" data both easy and intuitive\n",
    "- High-level building block for doing practical, real-world data analysis in Python.\n",
    "- Goal: It is the most powerful open source data analysis/manipulation tool available in any language.\n",
    "- Series - 1 Dimension\n",
    "- DataFrame - 2 Dimension"
   ]
  },
  {
   "cell_type": "markdown",
   "metadata": {},
   "source": [
    "#### Creating a series\n",
    "- Use a list\n",
    "- Use a dictionary\n",
    "- Using a Numpy Array"
   ]
  },
  {
   "cell_type": "code",
   "execution_count": 1,
   "metadata": {},
   "outputs": [],
   "source": [
    "# Import pandas\n",
    "import pandas as pd"
   ]
  },
  {
   "cell_type": "code",
   "execution_count": 5,
   "metadata": {},
   "outputs": [
    {
     "data": {
      "text/plain": [
       "list"
      ]
     },
     "execution_count": 5,
     "metadata": {},
     "output_type": "execute_result"
    }
   ],
   "source": [
    "# Create a series using a list - pd.Series(data=data, index=label)\n",
    "age = [12, 14,44, 23, 45, 56, 87, 44]\n",
    "age\n",
    "type(age)"
   ]
  },
  {
   "cell_type": "code",
   "execution_count": 7,
   "metadata": {},
   "outputs": [
    {
     "data": {
      "text/plain": [
       "0    12\n",
       "1    14\n",
       "2    44\n",
       "3    23\n",
       "4    45\n",
       "5    56\n",
       "6    87\n",
       "7    44\n",
       "dtype: int64"
      ]
     },
     "execution_count": 7,
     "metadata": {},
     "output_type": "execute_result"
    }
   ],
   "source": [
    "customer = pd.Series(data=age)\n",
    "customer"
   ]
  },
  {
   "cell_type": "code",
   "execution_count": 10,
   "metadata": {},
   "outputs": [
    {
     "data": {
      "text/plain": [
       "Nancy        12\n",
       "Ann          14\n",
       "Ken          44\n",
       "Mary         23\n",
       "Elizabeth    45\n",
       "Allan        56\n",
       "Mercy        87\n",
       "Pauline      44\n",
       "dtype: int64"
      ]
     },
     "execution_count": 10,
     "metadata": {},
     "output_type": "execute_result"
    }
   ],
   "source": [
    "name = ['Nancy', 'Ann', 'Ken', 'Mary', 'Elizabeth', 'Allan', 'Mercy', 'Pauline']\n",
    "customer = pd.Series(data=age, index=name)\n",
    "customer"
   ]
  },
  {
   "cell_type": "code",
   "execution_count": 12,
   "metadata": {},
   "outputs": [
    {
     "data": {
      "text/plain": [
       "{'Avatar': 2022,\n",
       " 'Black Panther': 2020,\n",
       " 'Saw': 2000,\n",
       " 'Money Heist': 2019,\n",
       " 'Avenger': 2020,\n",
       " 'Iron Man': 2021,\n",
       " 'Hulk': 2000}"
      ]
     },
     "execution_count": 12,
     "metadata": {},
     "output_type": "execute_result"
    }
   ],
   "source": [
    "# Creating a Series using a Dictionary - pd.Series(dictionary)\n",
    "movies = {'Avatar':2022, 'Black Panther':2020, 'Saw':2000, 'Money Heist':2019, 'Avenger':2020, 'Iron Man':2021, 'Hulk':2000}\n",
    "movies"
   ]
  },
  {
   "cell_type": "code",
   "execution_count": 17,
   "metadata": {},
   "outputs": [
    {
     "data": {
      "text/plain": [
       "Avatar           2022\n",
       "Black Panther    2020\n",
       "Saw              2000\n",
       "Money Heist      2019\n",
       "Avenger          2020\n",
       "Iron Man         2021\n",
       "Hulk             2000\n",
       "dtype: int64"
      ]
     },
     "execution_count": 17,
     "metadata": {},
     "output_type": "execute_result"
    }
   ],
   "source": [
    "film = pd.Series(movies)\n",
    "film"
   ]
  },
  {
   "cell_type": "code",
   "execution_count": 18,
   "metadata": {},
   "outputs": [
    {
     "data": {
      "text/plain": [
       "Index(['Avatar', 'Black Panther', 'Saw', 'Money Heist', 'Avenger', 'Iron Man',\n",
       "       'Hulk'],\n",
       "      dtype='object')"
      ]
     },
     "execution_count": 18,
     "metadata": {},
     "output_type": "execute_result"
    }
   ],
   "source": [
    "film.index"
   ]
  },
  {
   "cell_type": "code",
   "execution_count": 19,
   "metadata": {},
   "outputs": [
    {
     "data": {
      "text/plain": [
       "array([2022, 2020, 2000, 2019, 2020, 2021, 2000], dtype=int64)"
      ]
     },
     "execution_count": 19,
     "metadata": {},
     "output_type": "execute_result"
    }
   ],
   "source": [
    "film.values"
   ]
  },
  {
   "cell_type": "code",
   "execution_count": 21,
   "metadata": {},
   "outputs": [
    {
     "data": {
      "text/plain": [
       "Avatar           2022\n",
       "Black Panther    2020\n",
       "Money Heist      2019\n",
       "Avenger          2020\n",
       "Iron Man         2021\n",
       "dtype: int64"
      ]
     },
     "execution_count": 21,
     "metadata": {},
     "output_type": "execute_result"
    }
   ],
   "source": [
    "# Movies that were released after 2010\n",
    "film[film >= 2010]"
   ]
  },
  {
   "cell_type": "code",
   "execution_count": 22,
   "metadata": {},
   "outputs": [
    {
     "data": {
      "text/plain": [
       "Saw     2000\n",
       "Hulk    2000\n",
       "dtype: int64"
      ]
     },
     "execution_count": 22,
     "metadata": {},
     "output_type": "execute_result"
    }
   ],
   "source": [
    "# Movies that were released before 2010\n",
    "film[film <= 2010]"
   ]
  },
  {
   "cell_type": "code",
   "execution_count": 23,
   "metadata": {},
   "outputs": [
    {
     "data": {
      "text/plain": [
       "2021"
      ]
     },
     "execution_count": 23,
     "metadata": {},
     "output_type": "execute_result"
    }
   ],
   "source": [
    "# The year Irom Man was made\n",
    "film['Iron Man']"
   ]
  },
  {
   "cell_type": "code",
   "execution_count": 24,
   "metadata": {},
   "outputs": [
    {
     "data": {
      "text/plain": [
       "2022"
      ]
     },
     "execution_count": 24,
     "metadata": {},
     "output_type": "execute_result"
    }
   ],
   "source": [
    "film['Avatar']"
   ]
  },
  {
   "cell_type": "code",
   "execution_count": 25,
   "metadata": {},
   "outputs": [
    {
     "data": {
      "text/plain": [
       "Nancy        12\n",
       "Ann          14\n",
       "Ken          44\n",
       "Mary         23\n",
       "Elizabeth    45\n",
       "Allan        56\n",
       "Mercy        87\n",
       "Pauline      44\n",
       "dtype: int64"
      ]
     },
     "execution_count": 25,
     "metadata": {},
     "output_type": "execute_result"
    }
   ],
   "source": [
    "customer"
   ]
  },
  {
   "cell_type": "code",
   "execution_count": 26,
   "metadata": {},
   "outputs": [
    {
     "data": {
      "text/plain": [
       "Ken          44\n",
       "Elizabeth    45\n",
       "Allan        56\n",
       "Mercy        87\n",
       "Pauline      44\n",
       "dtype: int64"
      ]
     },
     "execution_count": 26,
     "metadata": {},
     "output_type": "execute_result"
    }
   ],
   "source": [
    "customer[customer >= 30]"
   ]
  },
  {
   "cell_type": "code",
   "execution_count": 27,
   "metadata": {},
   "outputs": [
    {
     "data": {
      "text/plain": [
       "Nancy    12\n",
       "Ann      14\n",
       "Mary     23\n",
       "dtype: int64"
      ]
     },
     "execution_count": 27,
     "metadata": {},
     "output_type": "execute_result"
    }
   ],
   "source": [
    "customer[customer < 40]"
   ]
  }
 ],
 "metadata": {
  "kernelspec": {
   "display_name": "base",
   "language": "python",
   "name": "python3"
  },
  "language_info": {
   "codemirror_mode": {
    "name": "ipython",
    "version": 3
   },
   "file_extension": ".py",
   "mimetype": "text/x-python",
   "name": "python",
   "nbconvert_exporter": "python",
   "pygments_lexer": "ipython3",
   "version": "3.11.5"
  }
 },
 "nbformat": 4,
 "nbformat_minor": 2
}
