{
 "cells": [
  {
   "cell_type": "code",
   "execution_count": 13,
   "metadata": {},
   "outputs": [],
   "source": [
    "#%pip install mediapipe "
   ]
  },
  {
   "cell_type": "markdown",
   "metadata": {},
   "source": [
    "**HAND DETECTION**"
   ]
  },
  {
   "cell_type": "code",
   "execution_count": 14,
   "metadata": {},
   "outputs": [],
   "source": [
    "# Step 1: Import all necessary libraries\n",
    "import cv2\n",
    "import mediapipe as mp"
   ]
  },
  {
   "cell_type": "code",
   "execution_count": 15,
   "metadata": {},
   "outputs": [],
   "source": [
    "# Step 2: Identify your webcam - Local webcam (0); external webcam (1)\n",
    "cap = cv2.VideoCapture(r\"E:\\10ALYTICS\\ML_Projects\\Computer_Vision\\palm.jpg\")"
   ]
  },
  {
   "cell_type": "code",
   "execution_count": 16,
   "metadata": {},
   "outputs": [],
   "source": [
    "# Step 4: Leveraging the Mediapipe Library used for hand detection\n",
    "mpHands = mp.solutions.hands\n",
    "hands = mpHands.Hands()\n",
    "mpDraw = mp.solutions.drawing_utils"
   ]
  },
  {
   "cell_type": "code",
   "execution_count": 21,
   "metadata": {},
   "outputs": [
    {
     "ename": "error",
     "evalue": "OpenCV(4.8.1) D:\\a\\opencv-python\\opencv-python\\opencv\\modules\\imgproc\\src\\color.cpp:182: error: (-215:Assertion failed) !_src.empty() in function 'cv::cvtColor'\n",
     "output_type": "error",
     "traceback": [
      "\u001b[1;31m---------------------------------------------------------------------------\u001b[0m",
      "\u001b[1;31merror\u001b[0m                                     Traceback (most recent call last)",
      "\u001b[1;32me:\\10ALYTICS\\ML_Projects\\Computer_Vision\\Hand_Detection.ipynb Cell 6\u001b[0m line \u001b[0;36m6\n\u001b[0;32m      <a href='vscode-notebook-cell:/e%3A/10ALYTICS/ML_Projects/Computer_Vision/Hand_Detection.ipynb#W4sZmlsZQ%3D%3D?line=2'>3</a>\u001b[0m _, img \u001b[39m=\u001b[39m cap\u001b[39m.\u001b[39mread() \u001b[39m# Launches the webcam\u001b[39;00m\n\u001b[0;32m      <a href='vscode-notebook-cell:/e%3A/10ALYTICS/ML_Projects/Computer_Vision/Hand_Detection.ipynb#W4sZmlsZQ%3D%3D?line=4'>5</a>\u001b[0m \u001b[39m# Convert image from BGR to RGB - 1\u001b[39;00m\n\u001b[1;32m----> <a href='vscode-notebook-cell:/e%3A/10ALYTICS/ML_Projects/Computer_Vision/Hand_Detection.ipynb#W4sZmlsZQ%3D%3D?line=5'>6</a>\u001b[0m imgRGB \u001b[39m=\u001b[39m cv2\u001b[39m.\u001b[39mcvtColor(img, cv2\u001b[39m.\u001b[39mCOLOR_BGR2GRAY)\n\u001b[0;32m      <a href='vscode-notebook-cell:/e%3A/10ALYTICS/ML_Projects/Computer_Vision/Hand_Detection.ipynb#W4sZmlsZQ%3D%3D?line=7'>8</a>\u001b[0m \u001b[39m# Apply mediapipe\u001b[39;00m\n\u001b[0;32m      <a href='vscode-notebook-cell:/e%3A/10ALYTICS/ML_Projects/Computer_Vision/Hand_Detection.ipynb#W4sZmlsZQ%3D%3D?line=8'>9</a>\u001b[0m results \u001b[39m=\u001b[39m hands\u001b[39m.\u001b[39mprocess(imgRGB)\n",
      "\u001b[1;31merror\u001b[0m: OpenCV(4.8.1) D:\\a\\opencv-python\\opencv-python\\opencv\\modules\\imgproc\\src\\color.cpp:182: error: (-215:Assertion failed) !_src.empty() in function 'cv::cvtColor'\n"
     ]
    }
   ],
   "source": [
    "# Step 3: Switch on the webcam\n",
    "while True:\n",
    "    _, img = cap.read() # Launches the webcam\n",
    "    \n",
    "    # Convert image from BGR to RGB - 1\n",
    "    imgRGB = cv2.cvtColor(img, cv2.COLOR_BGR2GRAY)\n",
    "    \n",
    "    # Apply mediapipe\n",
    "    results = hands.process(imgRGB)\n",
    "    \n",
    "    #print(results.multi_hand_landmarks)\n",
    "    \n",
    "    if results.multi_hand_landmarks:\n",
    "        for handLms in results.multi_hand_landmarks:\n",
    "            for id, lm in enumerate(handLms.landmark):\n",
    "                #print(id, lm)\n",
    "                \n",
    "                # Draws the hand\n",
    "                mpDraw.draw_landmarks(img, handLms, mpHands.HAND_CONNECTIONS)\n",
    "    \n",
    "    cv2.putText(img, \"10Alytics Hand Detection Program\", (10, 70), cv2.FONT_HERSHEY_PLAIN, 3, (255, 255, 255))        \n",
    "    cv2.imshow(\"10Alytics Hand detection project\", img)\n",
    "    if cv2.waitKey(1) & 0xFF == ord(\"q\"):\n",
    "        break\n",
    "    \n",
    "# Release the capture once all the processing is done\n",
    "cap.release()\n",
    "cv2.destroyAllWindows()"
   ]
  }
 ],
 "metadata": {
  "kernelspec": {
   "display_name": "base",
   "language": "python",
   "name": "python3"
  },
  "language_info": {
   "codemirror_mode": {
    "name": "ipython",
    "version": 3
   },
   "file_extension": ".py",
   "mimetype": "text/x-python",
   "name": "python",
   "nbconvert_exporter": "python",
   "pygments_lexer": "ipython3",
   "version": "3.11.5"
  }
 },
 "nbformat": 4,
 "nbformat_minor": 2
}
