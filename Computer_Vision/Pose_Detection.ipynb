{
 "cells": [
  {
   "cell_type": "code",
   "execution_count": 1,
   "metadata": {},
   "outputs": [],
   "source": [
    "#!pip install mediapipe"
   ]
  },
  {
   "cell_type": "code",
   "execution_count": 2,
   "metadata": {},
   "outputs": [],
   "source": [
    "# Step 1: Import all necessary libraries\n",
    "import cv2\n",
    "import mediapipe as mp"
   ]
  },
  {
   "cell_type": "code",
   "execution_count": 3,
   "metadata": {},
   "outputs": [],
   "source": [
    "# Step 2: Identify Webcam\n",
    "cap = cv2.VideoCapture(0) # 0 - Local Webcam, 1 - External Webcam"
   ]
  },
  {
   "cell_type": "code",
   "execution_count": 4,
   "metadata": {},
   "outputs": [],
   "source": [
    "# Leveraging the Mediapipe Library used for Pose Detection\n",
    "mpPose = mp.solutions.pose\n",
    "pose = mpPose.Pose()\n",
    "\n",
    "# Pose - mpPose.Pose(Static_image_mode - False, upper_body_only - False, smooth_landmarks- True, min_detection_confidence - 0.5, min_tracking_confidence - 0.5)\n",
    "\n",
    "# To draw and connect the landmarks\n",
    "mpDraw = mp.solutions.drawing_utils"
   ]
  },
  {
   "cell_type": "code",
   "execution_count": 5,
   "metadata": {},
   "outputs": [],
   "source": [
    "# Step 3: Switch on your Webcam\n",
    "while True:\n",
    "    _, img = cap.read() # Switches on the webcam\n",
    "    \n",
    "    # Convert video/image from BGR to RGB\n",
    "    imgRGB = cv2.cvtColor(img, cv2.COLOR_BGR2RGB)\n",
    "    \n",
    "    # Apply the mediapipe pose detection module for detection\n",
    "    results = pose.process(imgRGB)\n",
    "    #print(results.pose_landmarks)\n",
    "    \n",
    "    # Draw Landmarks\n",
    "    if results.pose_landmarks:\n",
    "        mpDraw.draw_landmarks(img, results.pose_landmarks, mpPose.POSE_CONNECTIONS)\n",
    "        \n",
    "        cv2.putText(img, \"10Alytics Pose Detection\", (10, 50), cv2.FONT_HERSHEY_PLAIN, 2, (255,255,255), 3)\n",
    "    \n",
    "    cv2.imshow(\"10Alytics Pose Detection\", img)\n",
    "    \n",
    "    if cv2.waitKey(1) & 0xff == ord('q'):\n",
    "        break\n",
    "    \n",
    "# Release the capture once all the processing is done\n",
    "cap.release()\n",
    "cv2.destroyAllWindows()"
   ]
  }
 ],
 "metadata": {
  "kernelspec": {
   "display_name": "base",
   "language": "python",
   "name": "python3"
  },
  "language_info": {
   "codemirror_mode": {
    "name": "ipython",
    "version": 3
   },
   "file_extension": ".py",
   "mimetype": "text/x-python",
   "name": "python",
   "nbconvert_exporter": "python",
   "pygments_lexer": "ipython3",
   "version": "3.11.5"
  }
 },
 "nbformat": 4,
 "nbformat_minor": 2
}
