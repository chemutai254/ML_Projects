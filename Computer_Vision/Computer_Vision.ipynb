{
 "cells": [
  {
   "cell_type": "markdown",
   "metadata": {},
   "source": [
    "## Computer Vision"
   ]
  },
  {
   "cell_type": "code",
   "execution_count": 1,
   "metadata": {},
   "outputs": [
    {
     "name": "stdout",
     "output_type": "stream",
     "text": [
      "Defaulting to user installation because normal site-packages is not writeable\n",
      "Requirement already satisfied: opencv-python in c:\\users\\homepc\\appdata\\roaming\\python\\python311\\site-packages (4.8.1.78)\n",
      "Requirement already satisfied: numpy>=1.21.2 in c:\\programdata\\anaconda3\\lib\\site-packages (from opencv-python) (1.24.3)\n",
      "Note: you may need to restart the kernel to use updated packages.\n"
     ]
    }
   ],
   "source": [
    "# Install Open-CV\n",
    "%pip install opencv-python"
   ]
  },
  {
   "cell_type": "code",
   "execution_count": 2,
   "metadata": {},
   "outputs": [],
   "source": [
    "# import OpenCV\n",
    "import cv2"
   ]
  },
  {
   "cell_type": "code",
   "execution_count": 3,
   "metadata": {},
   "outputs": [],
   "source": [
    "# Leverage Haar-Cascade Classifier\n",
    "face_cascade = cv2.CascadeClassifier(cv2.data.haarcascades + \"haarcascade_frontalface_default.xml\")\n",
    "\n",
    "eye_cascade = cv2.CascadeClassifier(cv2.data.haarcascades + \"haarcascade_eye.xml\")\n",
    "\n",
    "smile_cascade = cv2.CascadeClassifier(cv2.data.haarcascades + \"haarcascade_smile.xml\")"
   ]
  },
  {
   "cell_type": "code",
   "execution_count": 4,
   "metadata": {},
   "outputs": [],
   "source": [
    "# Create a function that will detect the face\n",
    "def detect(gray, frame):\n",
    "    face = face_cascade.detectMultiScale(gray, 1.3, 5)\n",
    "    for (x, y, w, h) in face:\n",
    "        # Face detection\n",
    "        cv2.rectangle(frame, (x,y), (x+w, y+h), (0,100, 200), 3)\n",
    "        roi_gray = gray[y:y+h, x:x+w]\n",
    "        roi_color = frame[y:y+h, x:x+w]\n",
    "        \n",
    "        # Eyes detection\n",
    "        eyes = eye_cascade.detectMultiScale(gray, 1.1, 3)\n",
    "        for (ex, ey, ew, eh) in eyes:\n",
    "            cv2.rectangle(frame, (ex,ey), (ex+ew, ey+eh), (100, 255, 200), 2)\n",
    "            \n",
    "        # Smile detection\n",
    "        # Eyes detection\n",
    "        smile = smile_cascade.detectMultiScale(gray, 1.7, 20)\n",
    "        for (sx, sy, sw, sh) in smile:\n",
    "            cv2.rectangle(frame, (sx,sy), (sx+sw, sy+sh), (0, 200, 100), 2)\n",
    "    return frame"
   ]
  },
  {
   "cell_type": "code",
   "execution_count": 5,
   "metadata": {},
   "outputs": [],
   "source": [
    "capture = cv2.VideoCapture(r\"C:\\Users\\HomePC\\Desktop\\pic.jpg\") # 0 - Local webcam, 1 - external webcam\n",
    "\n",
    "while True:\n",
    "    _, frame = capture.read() # _ - empty variable, .read() - switching on the camera\n",
    "    gray = cv2.cvtColor(frame, cv2.COLOR_BGR2GRAY) # Converts picture into grayscale\n",
    "    canvas = detect(gray, frame)\n",
    "    cv2.imshow(\"Video\", canvas) # Display the frame\n",
    "    if cv2.waitKey(0) & 0xff == ord('q'): # if I press q stops the display - while loop\n",
    "        break\n",
    "capture.release()\n",
    "cv2.destroyAllWindows()"
   ]
  }
 ],
 "metadata": {
  "kernelspec": {
   "display_name": "base",
   "language": "python",
   "name": "python3"
  },
  "language_info": {
   "codemirror_mode": {
    "name": "ipython",
    "version": 3
   },
   "file_extension": ".py",
   "mimetype": "text/x-python",
   "name": "python",
   "nbconvert_exporter": "python",
   "pygments_lexer": "ipython3",
   "version": "3.11.5"
  }
 },
 "nbformat": 4,
 "nbformat_minor": 2
}
