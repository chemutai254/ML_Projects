{
  "cells": [
    {
      "cell_type": "markdown",
      "id": "7bb7cdda",
      "metadata": {
        "id": "7bb7cdda"
      },
      "source": [
        "### Control flow is a fundamental concept in programming that determines the order in which statements and instructions are executed within a program. It allows you to make decisions, repeat actions, and control the flow of your code based on conditions and logic. Control flow in Python is the sequence in which statements and code blocks are executed. Python provides several control flow structures that allow you to make decisions, repeat actions, and handle exceptions\n",
        "\n",
        "\n",
        "## IF, ELIF, ELSE STATEMENTS\n",
        "In Python, if, elif (short for \"else if\"), and else statements are used to control the flow of your program based on conditions. These statements allow you to execute different blocks of code depending on whether certain conditions are true or false. Here's how they work:\n",
        "\n",
        "### IF\n",
        "if Statement: The if statement is used to execute a block of code if a specified condition is true. If the condition is false, the code block is skipped.\n",
        "\n",
        "### ELIF\n",
        "elif Statement: The elif statement is used when you want to test multiple conditions sequentially. It is used after an if statement and before an optional else statement. If the if condition is false, Python checks the elif conditions one by one until it finds a true condition or reaches the else block.\n",
        "\n",
        "### ELSE\n",
        "else Statement: The else statement is used to provide a default block of code that executes when none of the preceding if or elif conditions are true."
      ]
    },
    {
      "cell_type": "markdown",
      "id": "fb1c3616",
      "metadata": {
        "id": "fb1c3616"
      },
      "source": [
        "## IF, ELIF AND ELSE STATEMENTS"
      ]
    },
    {
      "cell_type": "markdown",
      "id": "199384d4",
      "metadata": {
        "id": "199384d4"
      },
      "source": [
        "1. Write a program that calculates employee bonuses based on their performance. If an employee's performance score is greater than 90, they receive a 10% bonus; otherwise, they receive a 5% bonus. (Let's assume salary is 1000)"
      ]
    },
    {
      "cell_type": "code",
      "execution_count": null,
      "id": "39a50136",
      "metadata": {
        "colab": {
          "base_uri": "https://localhost:8080/"
        },
        "id": "39a50136",
        "outputId": "e3b4d73c-c4f1-4619-8a7f-7fdc48083be9"
      },
      "outputs": [
        {
          "name": "stdout",
          "output_type": "stream",
          "text": [
            "Enter performance: 70\n",
            "Enter salary:1000\n",
            "The employee bonus is 1050.0\n"
          ]
        }
      ],
      "source": [
        "performance = int(input(\"Enter performance: \"))\n",
        "salary = float(input(\"Enter salary:\"))\n",
        "\n",
        "\n",
        "if performance >= 90:\n",
        "   employee_bonuses = salary + (salary * 10/100)\n",
        "else:\n",
        "    employee_bonuses = salary + (salary * 5/100)\n",
        "\n",
        "print(f\"The employee bonus is {employee_bonuses}\")\n"
      ]
    },
    {
      "cell_type": "markdown",
      "id": "0a42b84d",
      "metadata": {
        "id": "0a42b84d"
      },
      "source": [
        "2. Create a program that calculates the total cost of an order, including a discount. If the order total is greater than $100, apply a 10% discount; otherwise, apply a 5% discount."
      ]
    },
    {
      "cell_type": "code",
      "execution_count": null,
      "id": "19977971",
      "metadata": {
        "id": "19977971",
        "outputId": "89d3b43e-a0cf-4226-fa7a-8588b8e2ddd3"
      },
      "outputs": [
        {
          "name": "stdout",
          "output_type": "stream",
          "text": [
            "Enter the order total: $56\n",
            "Total cost after discount: $53.2\n"
          ]
        }
      ],
      "source": [
        "\n"
      ]
    },
    {
      "cell_type": "markdown",
      "id": "ecdb2f80",
      "metadata": {
        "id": "ecdb2f80"
      },
      "source": [
        "3. Write A Program That Checks If A Year Is A Leap Year (Note: Any Year Divisible By 4, 100 or 400 Is A Leap Year) Else, Output Common Year"
      ]
    },
    {
      "cell_type": "code",
      "execution_count": null,
      "id": "4860644d",
      "metadata": {
        "id": "4860644d",
        "outputId": "11579bdf-aec0-4cb4-db45-23d921a001fd"
      },
      "outputs": [
        {
          "name": "stdout",
          "output_type": "stream",
          "text": [
            "Enter a year: 2020\n",
            "2020 is a leap year\n"
          ]
        }
      ],
      "source": [
        "\n"
      ]
    },
    {
      "cell_type": "markdown",
      "id": "7bb271c4",
      "metadata": {
        "id": "7bb271c4"
      },
      "source": [
        "4. Write A Program That Takes Input From The User And Displays 'This Is A Multiple Of 2' If The Number Is Divisible By 2, Displays 'This Is A Multiple Of 3' If The Number Is Divisible By 3, And Then 'This Is A Multiple Of 2 And 3' If The Number Is Divisible By 2 And 3"
      ]
    },
    {
      "cell_type": "code",
      "execution_count": null,
      "id": "937d2433",
      "metadata": {
        "colab": {
          "base_uri": "https://localhost:8080/"
        },
        "id": "937d2433",
        "outputId": "761995b1-90ba-4305-bf0d-aeb8a9034b07"
      },
      "outputs": [
        {
          "name": "stdout",
          "output_type": "stream",
          "text": [
            "Enter the number: 60\n",
            "This is a multiple of 2 and 3\n"
          ]
        }
      ],
      "source": [
        "num = int(input(\"Enter the number: \"))\n",
        "\n",
        "if num % 2 == 0 and num % 3 != 0:\n",
        "  print(f\"This is a multiple of 2\")\n",
        "elif num % 3 == 0 and num % 2 != 0:\n",
        "  print(f\"This is a multiple of 3\")\n",
        "elif num % 2 == 0 and num % 3 == 0:\n",
        "  print(f\"This is a multiple of 2 and 3\")\n",
        "else:\n",
        "  print(f\"This is neither a multiple of 2 and 3\")\n"
      ]
    },
    {
      "cell_type": "markdown",
      "id": "a4e9e8f3",
      "metadata": {
        "id": "a4e9e8f3"
      },
      "source": [
        "5. Implement a loan approval program that checks whether a customer is eligible for a loan. To be eligible, the customer's credit score should be above 700, and their annual income should be at least $50,000."
      ]
    },
    {
      "cell_type": "code",
      "execution_count": null,
      "id": "5dd7c75a",
      "metadata": {
        "id": "5dd7c75a",
        "outputId": "f2808a74-3a51-4acc-c9a3-c498ae3e143b"
      },
      "outputs": [
        {
          "name": "stdout",
          "output_type": "stream",
          "text": [
            "Enter customer's credit score: 800\n",
            "Enter customer's annual income: $50000\n",
            "Loan approved!\n"
          ]
        }
      ],
      "source": []
    },
    {
      "cell_type": "markdown",
      "id": "440c915e",
      "metadata": {
        "id": "440c915e"
      },
      "source": [
        "6. Write a Python program that takes the user's age and citizenship status as input and determines whether the user is eligible for voting, driving, both, or neither. Here are the conditions:\n",
        "\n",
        "To vote, a person must be at least 18 years old and a citizen.\n",
        "To drive, a person must be at least 16 years old.\n",
        "To both vote and drive, a person must be at least 18 years old and a citizen.\n",
        "If a person doesn't meet any of the above conditions, they are neither eligible to vote nor drive."
      ]
    },
    {
      "cell_type": "code",
      "execution_count": null,
      "id": "fd400bba",
      "metadata": {
        "colab": {
          "base_uri": "https://localhost:8080/"
        },
        "id": "fd400bba",
        "outputId": "2646bed3-723f-4e1c-ba8d-b01edb28b1cb"
      },
      "outputs": [
        {
          "name": "stdout",
          "output_type": "stream",
          "text": [
            "Enter your age: 19\n",
            "Are you a citizen? No\n",
            "You are eligible to drive but not vote.\n"
          ]
        }
      ],
      "source": [
        "age = int(input(\"Enter your age: \"))\n",
        "citizen = str(input(\"Are you a citizen? \").lower())\n",
        "\n",
        "if age >= 16:\n",
        "    if citizen == \"yes\":\n",
        "        if age >= 18:\n",
        "            print(\"You are eligible to vote and drive.\")\n",
        "        else:\n",
        "            print(\"You are eligible to drive but not vote.\")\n",
        "    else:\n",
        "        print(\"You are eligible to drive but not vote.\")\n",
        "else:\n",
        "    print(f\"You are neither eligible to vote not drive\")\n"
      ]
    },
    {
      "cell_type": "code",
      "execution_count": null,
      "id": "4269ae6a",
      "metadata": {
        "id": "4269ae6a"
      },
      "outputs": [],
      "source": []
    },
    {
      "cell_type": "markdown",
      "id": "a3c8b1cb",
      "metadata": {
        "id": "a3c8b1cb"
      },
      "source": [
        "7. Create a program that calculates a student's final grade based on multiple criteria:\n",
        "\n",
        "Exam Score (out of 100)\n",
        "Homework Score (out of 50)\n",
        "Attendance (out of 10)\n",
        "The grading system is as follows:\n",
        "\n",
        "The student must have at least 80% attendance to be eligible for grading.\n",
        "If attendance is less than 80%, the final grade is automatically an \"F.\"\n",
        "If attendance is 80% or above, calculate the overall grade as follows:\n",
        "Exam Score: 50%\n",
        "Homework Score: 30%\n",
        "Attendance: 20%\n",
        "Use the following grading scale:\n",
        "A: 90-100\n",
        "B: 80-89\n",
        "C: 70-79\n",
        "D: 60-69\n",
        "F: Below 60\n",
        "Write a Python program that takes input for exam score, homework score, and attendance and calculates and displays the final grade."
      ]
    },
    {
      "cell_type": "code",
      "execution_count": null,
      "id": "ae5707d8",
      "metadata": {
        "colab": {
          "base_uri": "https://localhost:8080/"
        },
        "id": "ae5707d8",
        "outputId": "0e300d27-1c26-40da-dddc-b1a1194409d9"
      },
      "outputs": [
        {
          "name": "stdout",
          "output_type": "stream",
          "text": [
            "Enter the exam score: 70\n",
            "Enter the homework score: 40\n",
            "Enter the attendance score9\n",
            "The overall grade is F.\n"
          ]
        }
      ],
      "source": [
        "exam_score = int(input(\"Enter the exam score: \"))\n",
        "homework_score = int(input(\"Enter the homework score: \"))\n",
        "attendance_score = int(input(\"Enter the attendance score\"))\n",
        "\n",
        "new_exam_score = ((exam_score / 100) * 50)\n",
        "new_homework_score = ((homework_score / 50) * 30)\n",
        "new_attendance_score = ((attendance_score / 10) * 20)\n",
        "\n",
        "least_attendance_score = ((80 / 100) * new_attendance_score)\n",
        "\n",
        "final_score = new_exam_score + new_homework_score + new_attendance_score\n",
        "\n",
        "if least_attendance_score < 16:\n",
        "  print(\"The overall grade is F.\")\n",
        "elif least_attendance_score >= 16:\n",
        "  if final_score >= 90:\n",
        "    print(\"You scored an A.\")\n",
        "  elif final_score >= 80:\n",
        "    print(\"You scored a B.\")\n",
        "  elif final_score >= 70:\n",
        "    print(\"You scored a C.\")\n",
        "  elif final_score >= 60:\n",
        "    print(\"You scored a D.\")\n",
        "  else:\n",
        "    print(\"You scored a F.\")\n"
      ]
    },
    {
      "cell_type": "code",
      "execution_count": null,
      "id": "8f134e0c",
      "metadata": {
        "id": "8f134e0c"
      },
      "outputs": [],
      "source": []
    },
    {
      "cell_type": "markdown",
      "id": "44276a1b",
      "metadata": {
        "id": "44276a1b"
      },
      "source": [
        "## LOOP\n",
        "Loops are an essential programming concept that allows you to execute a block of code repeatedly. Python supports two main types of loops: for loops and while loops."
      ]
    },
    {
      "cell_type": "markdown",
      "id": "c3837943",
      "metadata": {
        "id": "c3837943"
      },
      "source": [
        "## FOR LOOP\n",
        "A for loop is typically used when you know in advance how many times you want to execute a block of code or when you want to iterate over a sequence of items (e.g., a list or a range). Its also used to repeatedly execute a block of code a specific number of times or iterate over a sequence of items."
      ]
    },
    {
      "cell_type": "markdown",
      "id": "f6fb215a",
      "metadata": {
        "id": "f6fb215a"
      },
      "source": [
        "1. Suppose you have a list of employees and their current salaries. Write a program that gives each employee a 5% salary increment."
      ]
    },
    {
      "cell_type": "code",
      "execution_count": null,
      "id": "63fca591",
      "metadata": {
        "colab": {
          "base_uri": "https://localhost:8080/"
        },
        "id": "63fca591",
        "outputId": "b739d042-8118-401f-b65b-df3effe80dd8"
      },
      "outputs": [
        {
          "name": "stdout",
          "output_type": "stream",
          "text": [
            "Enter your salary: 60\n"
          ]
        }
      ],
      "source": [
        "salary = float(input(\"Enter your salary: \"))\n",
        "employee_list = []\n",
        "\n",
        "for i in range(len(employee_list)):\n",
        "  emp_list = str(input(\"Enter employee name {i}: \"))\n",
        "  employee_list.append()\n",
        "  emp_salary = (salary + (salary * 5 / 100))\n",
        "  print(f\"The salary of {employee_list} is {emp_salary}.\")\n"
      ]
    },
    {
      "cell_type": "markdown",
      "id": "19e3edeb",
      "metadata": {
        "id": "19e3edeb"
      },
      "source": [
        "Create a guessing game where the computer generates a random number, and the user has to guess it. Use a for loop to give the user a limited number of attempts."
      ]
    },
    {
      "cell_type": "code",
      "execution_count": null,
      "id": "a144279f",
      "metadata": {
        "id": "a144279f",
        "outputId": "0ac4bcb2-b7c5-4cf8-cf1a-dd51df9fc0f3"
      },
      "outputs": [
        {
          "name": "stdout",
          "output_type": "stream",
          "text": [
            "Guess the number (1-50): 1\n",
            "Try a higher number.\n",
            "Guess the number (1-50): 34\n",
            "Try a lower number.\n",
            "Guess the number (1-50): 23\n",
            "Try a lower number.\n",
            "Guess the number (1-50): 43\n",
            "Try a lower number.\n",
            "Guess the number (1-50): 21\n",
            "Try a lower number.\n",
            "Sorry, you've used all 5 attempts. The secret number was 12.\n"
          ]
        }
      ],
      "source": [
        "\n",
        "num = int(input(\"Enter a random number: \"))\n",
        "counter = 0\n",
        "\n"
      ]
    },
    {
      "cell_type": "markdown",
      "id": "65aeeb09",
      "metadata": {
        "id": "65aeeb09"
      },
      "source": []
    },
    {
      "cell_type": "markdown",
      "id": "00423783",
      "metadata": {
        "id": "00423783"
      },
      "source": [
        "2. Write a program that calculates the sum of numbers from 1 to 100."
      ]
    },
    {
      "cell_type": "code",
      "execution_count": null,
      "id": "fff4244f",
      "metadata": {
        "id": "fff4244f",
        "outputId": "05a2fc4b-3c42-4121-9f6c-b2acfa435c88"
      },
      "outputs": [
        {
          "name": "stdout",
          "output_type": "stream",
          "text": [
            "Sum: 5050\n"
          ]
        }
      ],
      "source": []
    },
    {
      "cell_type": "markdown",
      "id": "11a27068",
      "metadata": {
        "id": "11a27068"
      },
      "source": [
        "3. Write a program that prints even numbers from 1 to 20 using for loop"
      ]
    },
    {
      "cell_type": "code",
      "execution_count": null,
      "id": "d6a3cd17",
      "metadata": {
        "id": "d6a3cd17",
        "outputId": "31b04278-9605-4f02-dbcc-35840f2d3d94"
      },
      "outputs": [
        {
          "name": "stdout",
          "output_type": "stream",
          "text": [
            "Minimum balance in the bank: 1000\n"
          ]
        }
      ],
      "source": [
        "\n"
      ]
    },
    {
      "cell_type": "markdown",
      "id": "feba6679",
      "metadata": {
        "id": "feba6679"
      },
      "source": [
        "4. Write a program that calculates the sum of squares of numbers from 1 to 5."
      ]
    },
    {
      "cell_type": "code",
      "execution_count": null,
      "id": "753eae5b",
      "metadata": {
        "id": "753eae5b",
        "outputId": "a8398555-3e2b-4890-ff46-457abbe2c1f5"
      },
      "outputs": [
        {
          "name": "stdout",
          "output_type": "stream",
          "text": [
            "Sum of squares: 55\n"
          ]
        }
      ],
      "source": [
        "\n"
      ]
    },
    {
      "cell_type": "markdown",
      "id": "758650f8",
      "metadata": {
        "id": "758650f8"
      },
      "source": [
        "5. Write a program that takes input of 10 students scores and outputs minimum score, maximum score, sum and average."
      ]
    },
    {
      "cell_type": "code",
      "execution_count": null,
      "id": "fb3875c8",
      "metadata": {
        "colab": {
          "base_uri": "https://localhost:8080/",
          "height": 279
        },
        "id": "fb3875c8",
        "outputId": "6648510a-a125-4692-90ad-0b6fcf31ecbb"
      },
      "outputs": [
        {
          "name": "stdout",
          "output_type": "stream",
          "text": [
            "Enter student score 1: 3\n",
            "[3]\n"
          ]
        },
        {
          "ename": "TypeError",
          "evalue": "ignored",
          "output_type": "error",
          "traceback": [
            "\u001b[0;31m---------------------------------------------------------------------------\u001b[0m",
            "\u001b[0;31mTypeError\u001b[0m                                 Traceback (most recent call last)",
            "\u001b[0;32m<ipython-input-62-3d5ba5dffcf9>\u001b[0m in \u001b[0;36m<cell line: 4>\u001b[0;34m()\u001b[0m\n\u001b[1;32m      6\u001b[0m   \u001b[0mscores\u001b[0m\u001b[0;34m.\u001b[0m\u001b[0mappend\u001b[0m\u001b[0;34m(\u001b[0m\u001b[0mscore\u001b[0m\u001b[0;34m)\u001b[0m\u001b[0;34m\u001b[0m\u001b[0;34m\u001b[0m\u001b[0m\n\u001b[1;32m      7\u001b[0m   \u001b[0mprint\u001b[0m\u001b[0;34m(\u001b[0m\u001b[0mscores\u001b[0m\u001b[0;34m)\u001b[0m\u001b[0;34m\u001b[0m\u001b[0;34m\u001b[0m\u001b[0m\n\u001b[0;32m----> 8\u001b[0;31m   \u001b[0mprint\u001b[0m\u001b[0;34m(\u001b[0m\u001b[0msum\u001b[0m\u001b[0;34m(\u001b[0m\u001b[0mscores\u001b[0m\u001b[0;34m)\u001b[0m\u001b[0;34m)\u001b[0m\u001b[0;34m\u001b[0m\u001b[0;34m\u001b[0m\u001b[0m\n\u001b[0m\u001b[1;32m      9\u001b[0m \u001b[0;34m\u001b[0m\u001b[0m\n\u001b[1;32m     10\u001b[0m \u001b[0;31m# def minimum():\u001b[0m\u001b[0;34m\u001b[0m\u001b[0;34m\u001b[0m\u001b[0m\n",
            "\u001b[0;31mTypeError\u001b[0m: 'int' object is not callable"
          ]
        }
      ],
      "source": [
        "total = 0\n",
        "scores = []\n",
        "\n",
        "for i in range(1,11):\n",
        "  score = int(input(f\"Enter student score {i}: \"))\n",
        "  scores.append(score)\n",
        "  print(scores)\n",
        "  print(sum(scores))\n",
        "\n",
        "# def minimum():\n",
        "#   minimum_score = min(scores)\n",
        "#   print(minimum_score)\n",
        "\n",
        "# def maximum():\n",
        "#   maximum_score = max(scores)\n",
        "#   print(maximum_score)\n",
        "  # total = sum(scores)\n",
        "  # print(minimum)\n",
        "  #print(f\"The maximum score is {maximum}, minimum is {minimum}, sum is {sm}, and average is avg\")\n"
      ]
    },
    {
      "cell_type": "code",
      "execution_count": null,
      "id": "c8a38069",
      "metadata": {
        "id": "c8a38069"
      },
      "outputs": [],
      "source": []
    },
    {
      "cell_type": "markdown",
      "id": "14129fbe",
      "metadata": {
        "id": "14129fbe"
      },
      "source": [
        "## WHILE LOOP\n",
        "A while loop is used when you want to execute a block of code as long as a specific condition is true. The loop will continue to execute until the condition becomes false.\n",
        "\n",
        "While loop has two components\n",
        "first is the condition\n",
        "second is the block of code to be executed"
      ]
    },
    {
      "cell_type": "markdown",
      "id": "1aa74ea8",
      "metadata": {
        "id": "1aa74ea8"
      },
      "source": [
        "1. Write a program that asks the user for a starting number and counts down to 0 using a while loop. For example, if the user enters 5, the program should print: 5, 4, 3, 2, 1, 0."
      ]
    },
    {
      "cell_type": "code",
      "execution_count": null,
      "id": "ae4922f1",
      "metadata": {
        "id": "ae4922f1",
        "outputId": "f41cd911-5cfb-47c7-d0d2-774248169fa2"
      },
      "outputs": [
        {
          "name": "stdout",
          "output_type": "stream",
          "text": [
            "Enter a starting number: 13\n",
            "13\n",
            "12\n",
            "11\n",
            "10\n",
            "9\n",
            "8\n",
            "7\n",
            "6\n",
            "5\n",
            "4\n",
            "3\n",
            "2\n",
            "1\n",
            "0\n"
          ]
        }
      ],
      "source": []
    },
    {
      "cell_type": "markdown",
      "id": "648464ef",
      "metadata": {
        "id": "648464ef"
      },
      "source": [
        "2.Design a security feature that locks a user's account after a certain number of failed login attempts. Use if-else statements to check the login credentials and implement the locking mechanism."
      ]
    },
    {
      "cell_type": "code",
      "execution_count": null,
      "id": "f6284cc0",
      "metadata": {
        "id": "f6284cc0",
        "outputId": "496bbb32-62a0-423b-d6ec-4c86783f0562"
      },
      "outputs": [
        {
          "name": "stdout",
          "output_type": "stream",
          "text": [
            "Enter your PIN: 2121\n",
            "PIN accepted. Access granted.\n"
          ]
        }
      ],
      "source": [
        "\n"
      ]
    },
    {
      "cell_type": "markdown",
      "id": "7b08821d",
      "metadata": {
        "id": "7b08821d"
      },
      "source": [
        "3. Create a program that generates a random number between 1 and 50. Then, ask the user to guess the number. Provide feedback (\"Too high\" or \"Too low\") until the user guesses the correct number. Use a while loop to keep the game running until they guess correctly."
      ]
    },
    {
      "cell_type": "code",
      "execution_count": null,
      "id": "68617c31",
      "metadata": {
        "id": "68617c31",
        "outputId": "766ed918-421c-40d3-e229-c24f36482a12"
      },
      "outputs": [
        {
          "name": "stdout",
          "output_type": "stream",
          "text": [
            "Guess the number (1-50): 20\n",
            "Too low! Try again.\n",
            "Guess the number (1-50): 30\n",
            "Too low! Try again.\n",
            "Guess the number (1-50): 40\n",
            "Too low! Try again.\n",
            "Guess the number (1-50): 45\n",
            "Too low! Try again.\n",
            "Guess the number (1-50): 46\n",
            "Too low! Try again.\n",
            "Guess the number (1-50): 47\n",
            "Too low! Try again.\n",
            "Guess the number (1-50): 48\n",
            "Congratulations! You guessed it in 7 attempts.\n"
          ]
        }
      ],
      "source": []
    },
    {
      "cell_type": "markdown",
      "id": "4c6a8b43",
      "metadata": {
        "id": "4c6a8b43"
      },
      "source": [
        "4. Create a simple password checker program. Ask the user to enter a password, and keep prompting them until the entered password matches a predefined password you set in the code."
      ]
    },
    {
      "cell_type": "code",
      "execution_count": null,
      "id": "f127a7e3",
      "metadata": {
        "id": "f127a7e3",
        "outputId": "d9cf191b-8c2b-4d59-c682-fea1b8e678b8"
      },
      "outputs": [
        {
          "name": "stdout",
          "output_type": "stream",
          "text": [
            "Enter the password: Emmychesh\n",
            "Access granted! Welcome to 10alytics\n"
          ]
        }
      ],
      "source": [
        "\n"
      ]
    },
    {
      "cell_type": "markdown",
      "id": "5100c2b3",
      "metadata": {
        "id": "5100c2b3"
      },
      "source": [
        "5. Create a program that sends loan repayment reminders until a loan is fully paid off."
      ]
    },
    {
      "cell_type": "code",
      "execution_count": null,
      "id": "2cb243f5",
      "metadata": {
        "id": "2cb243f5",
        "outputId": "91fe003a-e14e-4a6a-bba8-966826902eec"
      },
      "outputs": [
        {
          "name": "stdout",
          "output_type": "stream",
          "text": [
            "Remaining balance: $5000\n",
            "Enter monthly payment: 500\n",
            "Remaining balance: $4500.0\n",
            "Enter monthly payment: 200\n",
            "Remaining balance: $4300.0\n",
            "Enter monthly payment: 4300\n",
            "Loan fully paid off!\n"
          ]
        }
      ],
      "source": []
    },
    {
      "cell_type": "markdown",
      "id": "97163bc9",
      "metadata": {
        "id": "97163bc9"
      },
      "source": [
        "## BREAK AND CONTINUE"
      ]
    },
    {
      "cell_type": "code",
      "execution_count": null,
      "id": "8c35c818",
      "metadata": {
        "id": "8c35c818"
      },
      "outputs": [],
      "source": [
        "# The break funstion automatically stops an iteration even if the condition is true\n",
        "# The continue statement skips a particular iteration"
      ]
    },
    {
      "cell_type": "markdown",
      "id": "935ff8ef",
      "metadata": {
        "id": "935ff8ef"
      },
      "source": [
        "Write a program that asks the user to enter positive numbers. Use a while loop to keep accepting numbers until the user enters a negative number. Calculate and display the sum of the positive numbers entered."
      ]
    },
    {
      "cell_type": "code",
      "execution_count": null,
      "id": "2f51cf54",
      "metadata": {
        "id": "2f51cf54",
        "outputId": "b48c29b0-a5fd-42de-81d5-fcf56b19be40"
      },
      "outputs": [
        {
          "name": "stdout",
          "output_type": "stream",
          "text": [
            "Enter a positive number (or a negative number to quit): 56\n",
            "Enter a positive number (or a negative number to quit): 34\n",
            "Enter a positive number (or a negative number to quit): -9\n",
            "Sum of positive numbers: 90\n"
          ]
        }
      ],
      "source": []
    },
    {
      "cell_type": "markdown",
      "id": "41b869b9",
      "metadata": {
        "id": "41b869b9"
      },
      "source": [
        "Use break to exit a for loop early when a specific element is found in a list."
      ]
    },
    {
      "cell_type": "code",
      "execution_count": null,
      "id": "bd9ef22e",
      "metadata": {
        "id": "bd9ef22e",
        "outputId": "ca133a35-b663-4f8b-b66f-8ff261cf0fcd"
      },
      "outputs": [
        {
          "name": "stdout",
          "output_type": "stream",
          "text": [
            "Found 42 in the list.\n"
          ]
        }
      ],
      "source": []
    },
    {
      "cell_type": "code",
      "execution_count": null,
      "id": "7e792603",
      "metadata": {
        "id": "7e792603"
      },
      "outputs": [],
      "source": []
    },
    {
      "cell_type": "markdown",
      "id": "c5115eee",
      "metadata": {
        "id": "c5115eee"
      },
      "source": [
        "Write a program that searches for the first even number in a list. Use a for loop and the break statement to exit the loop once an even number is found."
      ]
    },
    {
      "cell_type": "code",
      "execution_count": null,
      "id": "52476a72",
      "metadata": {
        "id": "52476a72",
        "outputId": "d2d30fcf-f3b3-4366-c3ab-4806d657b15b"
      },
      "outputs": [
        {
          "name": "stdout",
          "output_type": "stream",
          "text": [
            "The first even number is: 22\n"
          ]
        }
      ],
      "source": []
    },
    {
      "cell_type": "markdown",
      "id": "84c8b7d0",
      "metadata": {
        "id": "84c8b7d0"
      },
      "source": [
        "Create a program that iterates through a list of numbers and skips all multiples of 2 using the continue statement."
      ]
    },
    {
      "cell_type": "code",
      "execution_count": null,
      "id": "d1b659d2",
      "metadata": {
        "id": "d1b659d2",
        "outputId": "1573a48b-5c11-4bac-8295-9b359b404db1"
      },
      "outputs": [
        {
          "name": "stdout",
          "output_type": "stream",
          "text": [
            "1\n",
            "3\n",
            "5\n",
            "7\n",
            "9\n"
          ]
        }
      ],
      "source": []
    },
    {
      "cell_type": "code",
      "execution_count": null,
      "id": "1f6d77f5",
      "metadata": {
        "id": "1f6d77f5"
      },
      "outputs": [],
      "source": []
    },
    {
      "cell_type": "code",
      "execution_count": null,
      "id": "0bd804a3",
      "metadata": {
        "id": "0bd804a3"
      },
      "outputs": [],
      "source": []
    },
    {
      "cell_type": "code",
      "execution_count": null,
      "id": "b91bec0f",
      "metadata": {
        "id": "b91bec0f"
      },
      "outputs": [],
      "source": []
    },
    {
      "cell_type": "markdown",
      "id": "6c1b472f",
      "metadata": {
        "id": "6c1b472f"
      },
      "source": [
        "## FUNCTIONS\n",
        " Functions are an essential concept in Python and in programming in general. They allow you to group a set of statements together and give them a name, making your code more organized, readable, and reusable. In other words we can say functions are blocks of codes that only runs when they are called\n",
        "\n"
      ]
    },
    {
      "cell_type": "markdown",
      "id": "46df67bd",
      "metadata": {
        "id": "46df67bd"
      },
      "source": [
        "1. Write a python function that Calculates the area of a rectangle with length = 10, width = 8"
      ]
    },
    {
      "cell_type": "code",
      "execution_count": null,
      "id": "4df20552",
      "metadata": {
        "id": "4df20552",
        "outputId": "aa7f8042-b3f2-4a6d-afd2-f5feef9b386d"
      },
      "outputs": [
        {
          "name": "stdout",
          "output_type": "stream",
          "text": [
            "Enter the length of the rectangle: 10\n",
            "Enter the width of the rectangle: 12\n",
            "The area of the rectangle is: 120.0\n"
          ]
        }
      ],
      "source": []
    },
    {
      "cell_type": "code",
      "execution_count": null,
      "id": "76e0cb6f",
      "metadata": {
        "id": "76e0cb6f",
        "outputId": "cbe4fd43-74e2-45b6-b3f7-90f6dc4443c2"
      },
      "outputs": [
        {
          "data": {
            "text/plain": [
              "3250"
            ]
          },
          "execution_count": 34,
          "metadata": {},
          "output_type": "execute_result"
        }
      ],
      "source": [
        "calculate_rectangle_area (50, 65)"
      ]
    },
    {
      "cell_type": "markdown",
      "id": "bb385b86",
      "metadata": {
        "id": "bb385b86"
      },
      "source": [
        "2. Write a function that calculate the area of a circle with radius 30."
      ]
    },
    {
      "cell_type": "code",
      "execution_count": null,
      "id": "76ed3875",
      "metadata": {
        "id": "76ed3875",
        "outputId": "15166483-ed10-4578-cb2d-18955f11a3f3"
      },
      "outputs": [
        {
          "name": "stdout",
          "output_type": "stream",
          "text": [
            "Enter the radius of the circle: 54\n",
            "The area of the circle is: 9156.24\n"
          ]
        }
      ],
      "source": []
    },
    {
      "cell_type": "markdown",
      "id": "8b5473a1",
      "metadata": {
        "id": "8b5473a1"
      },
      "source": [
        "3. Write a function that finds the maximum of three user inputs using a function."
      ]
    },
    {
      "cell_type": "code",
      "execution_count": null,
      "id": "1e30a88b",
      "metadata": {
        "id": "1e30a88b",
        "outputId": "baa70bcf-982b-483e-c7bf-a339e9b5b0b3"
      },
      "outputs": [
        {
          "name": "stdout",
          "output_type": "stream",
          "text": [
            "Enter the first number: 23\n",
            "Enter the second number: 34\n",
            "Enter the third number: 78\n",
            "The maximum number is: 78.0\n"
          ]
        }
      ],
      "source": []
    },
    {
      "cell_type": "code",
      "execution_count": null,
      "id": "0cc9a94a",
      "metadata": {
        "id": "0cc9a94a",
        "outputId": "766b1661-ef47-49ef-9afe-06992b5bfb65"
      },
      "outputs": [
        {
          "data": {
            "text/plain": [
              "45"
            ]
          },
          "execution_count": 37,
          "metadata": {},
          "output_type": "execute_result"
        }
      ],
      "source": []
    },
    {
      "cell_type": "markdown",
      "id": "12406c5b",
      "metadata": {
        "id": "12406c5b"
      },
      "source": [
        "4. Write a function to calculate the average of a list of numbers."
      ]
    },
    {
      "cell_type": "code",
      "execution_count": null,
      "id": "1feb45d8",
      "metadata": {
        "id": "1feb45d8",
        "outputId": "d0ac9356-fccf-40f6-b530-959be7b08180"
      },
      "outputs": [
        {
          "name": "stdout",
          "output_type": "stream",
          "text": [
            "Average: 30.0\n"
          ]
        }
      ],
      "source": []
    },
    {
      "cell_type": "markdown",
      "id": "d9e5bdfe",
      "metadata": {
        "id": "d9e5bdfe"
      },
      "source": [
        "5. Use any program we have created so far, attach it to a function somewhere else in the notebook and call it"
      ]
    },
    {
      "cell_type": "code",
      "execution_count": null,
      "id": "41da7e6e",
      "metadata": {
        "id": "41da7e6e"
      },
      "outputs": [],
      "source": []
    },
    {
      "cell_type": "code",
      "execution_count": null,
      "id": "f5c69acc",
      "metadata": {
        "id": "f5c69acc"
      },
      "outputs": [],
      "source": []
    }
  ],
  "metadata": {
    "colab": {
      "provenance": []
    },
    "kernelspec": {
      "display_name": "Python 3 (ipykernel)",
      "language": "python",
      "name": "python3"
    },
    "language_info": {
      "codemirror_mode": {
        "name": "ipython",
        "version": 3
      },
      "file_extension": ".py",
      "mimetype": "text/x-python",
      "name": "python",
      "nbconvert_exporter": "python",
      "pygments_lexer": "ipython3",
      "version": "3.11.4"
    }
  },
  "nbformat": 4,
  "nbformat_minor": 5
}
